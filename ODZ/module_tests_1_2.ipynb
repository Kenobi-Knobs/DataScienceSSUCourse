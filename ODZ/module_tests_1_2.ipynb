{
  "nbformat": 4,
  "nbformat_minor": 0,
  "metadata": {
    "colab": {
      "provenance": []
    },
    "kernelspec": {
      "name": "python3",
      "display_name": "Python 3"
    }
  },
  "cells": [
    {
      "cell_type": "markdown",
      "metadata": {
        "id": "XorN1zkUMriM"
      },
      "source": [
        "# <center> Контрольна робота  №1 та №2 (ОДЗ)\n"
      ]
    },
    {
      "cell_type": "code",
      "metadata": {
        "id": "rn4q-J9dHivQ"
      },
      "source": [
        "import pandas as pd\n",
        "import numpy as np\n",
        "from sklearn.metrics.regression import mean_squared_error\n",
        "from sklearn.preprocessing import StandardScaler\n",
        "from sklearn.model_selection import GridSearchCV\n",
        "from sklearn.model_selection import cross_val_score, train_test_split\n",
        "from sklearn.linear_model import LinearRegression, LassoCV, Lasso\n",
        "from sklearn.ensemble import RandomForestRegressor"
      ],
      "execution_count": null,
      "outputs": []
    },
    {
      "cell_type": "markdown",
      "metadata": {
        "id": "2xXDtSgIHn9y"
      },
      "source": [
        "У завданні буде використано набір даних про якість білого вина(репозиторій UCI) \n",
        "archive.ics.uci.edu/ml/machine-learning-databases/wine-quality.\n",
        "Завантажте дані"
      ]
    },
    {
      "cell_type": "code",
      "metadata": {
        "id": "kVSqVCKHJqKp",
        "colab": {
          "base_uri": "https://localhost:8080/",
          "height": 569
        },
        "outputId": "5e59eecc-db4d-4be4-d96c-c4408357c1b8"
      },
      "source": [
        "!mkdir -p data \n",
        "!wget -P data -c https://archive.ics.uci.edu/ml/machine-learning-databases/wine-quality/winequality-white.csv \n",
        "\n",
        "data = pd.read_csv(\"data/winequality-white.csv\", sep=\";\")\n",
        "display(data.sample(10))"
      ],
      "execution_count": null,
      "outputs": [
        {
          "output_type": "stream",
          "text": [
            "--2020-09-20 15:34:35--  https://archive.ics.uci.edu/ml/machine-learning-databases/wine-quality/winequality-white.csv\n",
            "Resolving archive.ics.uci.edu (archive.ics.uci.edu)... 128.195.10.252\n",
            "Connecting to archive.ics.uci.edu (archive.ics.uci.edu)|128.195.10.252|:443... connected.\n",
            "HTTP request sent, awaiting response... 200 OK\n",
            "Length: 264426 (258K) [application/x-httpd-php]\n",
            "Saving to: ‘data/winequality-white.csv’\n",
            "\n",
            "winequality-white.c 100%[===================>] 258.23K  1.03MB/s    in 0.2s    \n",
            "\n",
            "2020-09-20 15:34:36 (1.03 MB/s) - ‘data/winequality-white.csv’ saved [264426/264426]\n",
            "\n"
          ],
          "name": "stdout"
        },
        {
          "output_type": "display_data",
          "data": {
            "text/html": [
              "<div>\n",
              "<style scoped>\n",
              "    .dataframe tbody tr th:only-of-type {\n",
              "        vertical-align: middle;\n",
              "    }\n",
              "\n",
              "    .dataframe tbody tr th {\n",
              "        vertical-align: top;\n",
              "    }\n",
              "\n",
              "    .dataframe thead th {\n",
              "        text-align: right;\n",
              "    }\n",
              "</style>\n",
              "<table border=\"1\" class=\"dataframe\">\n",
              "  <thead>\n",
              "    <tr style=\"text-align: right;\">\n",
              "      <th></th>\n",
              "      <th>fixed acidity</th>\n",
              "      <th>volatile acidity</th>\n",
              "      <th>citric acid</th>\n",
              "      <th>residual sugar</th>\n",
              "      <th>chlorides</th>\n",
              "      <th>free sulfur dioxide</th>\n",
              "      <th>total sulfur dioxide</th>\n",
              "      <th>density</th>\n",
              "      <th>pH</th>\n",
              "      <th>sulphates</th>\n",
              "      <th>alcohol</th>\n",
              "      <th>quality</th>\n",
              "    </tr>\n",
              "  </thead>\n",
              "  <tbody>\n",
              "    <tr>\n",
              "      <th>901</th>\n",
              "      <td>8.0</td>\n",
              "      <td>0.29</td>\n",
              "      <td>0.29</td>\n",
              "      <td>13.2</td>\n",
              "      <td>0.046</td>\n",
              "      <td>26.0</td>\n",
              "      <td>113.0</td>\n",
              "      <td>0.99830</td>\n",
              "      <td>3.25</td>\n",
              "      <td>0.37</td>\n",
              "      <td>9.7</td>\n",
              "      <td>6</td>\n",
              "    </tr>\n",
              "    <tr>\n",
              "      <th>144</th>\n",
              "      <td>8.1</td>\n",
              "      <td>0.20</td>\n",
              "      <td>0.40</td>\n",
              "      <td>2.0</td>\n",
              "      <td>0.037</td>\n",
              "      <td>19.0</td>\n",
              "      <td>87.0</td>\n",
              "      <td>0.99210</td>\n",
              "      <td>3.12</td>\n",
              "      <td>0.54</td>\n",
              "      <td>11.2</td>\n",
              "      <td>6</td>\n",
              "    </tr>\n",
              "    <tr>\n",
              "      <th>4238</th>\n",
              "      <td>6.4</td>\n",
              "      <td>0.29</td>\n",
              "      <td>0.18</td>\n",
              "      <td>15.0</td>\n",
              "      <td>0.040</td>\n",
              "      <td>21.0</td>\n",
              "      <td>116.0</td>\n",
              "      <td>0.99736</td>\n",
              "      <td>3.14</td>\n",
              "      <td>0.50</td>\n",
              "      <td>9.2</td>\n",
              "      <td>5</td>\n",
              "    </tr>\n",
              "    <tr>\n",
              "      <th>2201</th>\n",
              "      <td>6.0</td>\n",
              "      <td>0.28</td>\n",
              "      <td>0.27</td>\n",
              "      <td>2.3</td>\n",
              "      <td>0.051</td>\n",
              "      <td>23.0</td>\n",
              "      <td>147.0</td>\n",
              "      <td>0.99400</td>\n",
              "      <td>3.23</td>\n",
              "      <td>0.67</td>\n",
              "      <td>10.3</td>\n",
              "      <td>6</td>\n",
              "    </tr>\n",
              "    <tr>\n",
              "      <th>2544</th>\n",
              "      <td>6.9</td>\n",
              "      <td>0.32</td>\n",
              "      <td>0.30</td>\n",
              "      <td>1.8</td>\n",
              "      <td>0.036</td>\n",
              "      <td>28.0</td>\n",
              "      <td>117.0</td>\n",
              "      <td>0.99269</td>\n",
              "      <td>3.24</td>\n",
              "      <td>0.48</td>\n",
              "      <td>11.0</td>\n",
              "      <td>6</td>\n",
              "    </tr>\n",
              "    <tr>\n",
              "      <th>3330</th>\n",
              "      <td>6.7</td>\n",
              "      <td>0.23</td>\n",
              "      <td>0.33</td>\n",
              "      <td>8.1</td>\n",
              "      <td>0.048</td>\n",
              "      <td>45.0</td>\n",
              "      <td>176.0</td>\n",
              "      <td>0.99472</td>\n",
              "      <td>3.11</td>\n",
              "      <td>0.52</td>\n",
              "      <td>10.1</td>\n",
              "      <td>6</td>\n",
              "    </tr>\n",
              "    <tr>\n",
              "      <th>3070</th>\n",
              "      <td>6.8</td>\n",
              "      <td>0.28</td>\n",
              "      <td>0.43</td>\n",
              "      <td>7.6</td>\n",
              "      <td>0.030</td>\n",
              "      <td>30.0</td>\n",
              "      <td>110.0</td>\n",
              "      <td>0.99164</td>\n",
              "      <td>3.08</td>\n",
              "      <td>0.59</td>\n",
              "      <td>12.5</td>\n",
              "      <td>8</td>\n",
              "    </tr>\n",
              "    <tr>\n",
              "      <th>401</th>\n",
              "      <td>6.8</td>\n",
              "      <td>0.37</td>\n",
              "      <td>0.51</td>\n",
              "      <td>11.8</td>\n",
              "      <td>0.044</td>\n",
              "      <td>62.0</td>\n",
              "      <td>163.0</td>\n",
              "      <td>0.99760</td>\n",
              "      <td>3.19</td>\n",
              "      <td>0.44</td>\n",
              "      <td>8.8</td>\n",
              "      <td>5</td>\n",
              "    </tr>\n",
              "    <tr>\n",
              "      <th>695</th>\n",
              "      <td>6.3</td>\n",
              "      <td>0.34</td>\n",
              "      <td>0.28</td>\n",
              "      <td>14.7</td>\n",
              "      <td>0.047</td>\n",
              "      <td>49.0</td>\n",
              "      <td>198.0</td>\n",
              "      <td>0.99770</td>\n",
              "      <td>3.23</td>\n",
              "      <td>0.46</td>\n",
              "      <td>9.5</td>\n",
              "      <td>5</td>\n",
              "    </tr>\n",
              "    <tr>\n",
              "      <th>1778</th>\n",
              "      <td>6.4</td>\n",
              "      <td>0.15</td>\n",
              "      <td>0.36</td>\n",
              "      <td>1.8</td>\n",
              "      <td>0.034</td>\n",
              "      <td>43.0</td>\n",
              "      <td>150.0</td>\n",
              "      <td>0.99220</td>\n",
              "      <td>3.42</td>\n",
              "      <td>0.69</td>\n",
              "      <td>11.0</td>\n",
              "      <td>8</td>\n",
              "    </tr>\n",
              "  </tbody>\n",
              "</table>\n",
              "</div>"
            ],
            "text/plain": [
              "      fixed acidity  volatile acidity  citric acid  ...  sulphates  alcohol  quality\n",
              "901             8.0              0.29         0.29  ...       0.37      9.7        6\n",
              "144             8.1              0.20         0.40  ...       0.54     11.2        6\n",
              "4238            6.4              0.29         0.18  ...       0.50      9.2        5\n",
              "2201            6.0              0.28         0.27  ...       0.67     10.3        6\n",
              "2544            6.9              0.32         0.30  ...       0.48     11.0        6\n",
              "3330            6.7              0.23         0.33  ...       0.52     10.1        6\n",
              "3070            6.8              0.28         0.43  ...       0.59     12.5        8\n",
              "401             6.8              0.37         0.51  ...       0.44      8.8        5\n",
              "695             6.3              0.34         0.28  ...       0.46      9.5        5\n",
              "1778            6.4              0.15         0.36  ...       0.69     11.0        8\n",
              "\n",
              "[10 rows x 12 columns]"
            ]
          },
          "metadata": {
            "tags": []
          }
        }
      ]
    },
    {
      "cell_type": "code",
      "metadata": {
        "id": "ee08Kx8QJy1A",
        "colab": {
          "base_uri": "https://localhost:8080/",
          "height": 206
        },
        "outputId": "b85003fb-5601-4367-9c99-773ae5b2af93"
      },
      "source": [
        "data.head()"
      ],
      "execution_count": null,
      "outputs": [
        {
          "output_type": "execute_result",
          "data": {
            "text/html": [
              "<div>\n",
              "<style scoped>\n",
              "    .dataframe tbody tr th:only-of-type {\n",
              "        vertical-align: middle;\n",
              "    }\n",
              "\n",
              "    .dataframe tbody tr th {\n",
              "        vertical-align: top;\n",
              "    }\n",
              "\n",
              "    .dataframe thead th {\n",
              "        text-align: right;\n",
              "    }\n",
              "</style>\n",
              "<table border=\"1\" class=\"dataframe\">\n",
              "  <thead>\n",
              "    <tr style=\"text-align: right;\">\n",
              "      <th></th>\n",
              "      <th>fixed acidity</th>\n",
              "      <th>volatile acidity</th>\n",
              "      <th>citric acid</th>\n",
              "      <th>residual sugar</th>\n",
              "      <th>chlorides</th>\n",
              "      <th>free sulfur dioxide</th>\n",
              "      <th>total sulfur dioxide</th>\n",
              "      <th>density</th>\n",
              "      <th>pH</th>\n",
              "      <th>sulphates</th>\n",
              "      <th>alcohol</th>\n",
              "      <th>quality</th>\n",
              "    </tr>\n",
              "  </thead>\n",
              "  <tbody>\n",
              "    <tr>\n",
              "      <th>0</th>\n",
              "      <td>7.0</td>\n",
              "      <td>0.27</td>\n",
              "      <td>0.36</td>\n",
              "      <td>20.7</td>\n",
              "      <td>0.045</td>\n",
              "      <td>45.0</td>\n",
              "      <td>170.0</td>\n",
              "      <td>1.0010</td>\n",
              "      <td>3.00</td>\n",
              "      <td>0.45</td>\n",
              "      <td>8.8</td>\n",
              "      <td>6</td>\n",
              "    </tr>\n",
              "    <tr>\n",
              "      <th>1</th>\n",
              "      <td>6.3</td>\n",
              "      <td>0.30</td>\n",
              "      <td>0.34</td>\n",
              "      <td>1.6</td>\n",
              "      <td>0.049</td>\n",
              "      <td>14.0</td>\n",
              "      <td>132.0</td>\n",
              "      <td>0.9940</td>\n",
              "      <td>3.30</td>\n",
              "      <td>0.49</td>\n",
              "      <td>9.5</td>\n",
              "      <td>6</td>\n",
              "    </tr>\n",
              "    <tr>\n",
              "      <th>2</th>\n",
              "      <td>8.1</td>\n",
              "      <td>0.28</td>\n",
              "      <td>0.40</td>\n",
              "      <td>6.9</td>\n",
              "      <td>0.050</td>\n",
              "      <td>30.0</td>\n",
              "      <td>97.0</td>\n",
              "      <td>0.9951</td>\n",
              "      <td>3.26</td>\n",
              "      <td>0.44</td>\n",
              "      <td>10.1</td>\n",
              "      <td>6</td>\n",
              "    </tr>\n",
              "    <tr>\n",
              "      <th>3</th>\n",
              "      <td>7.2</td>\n",
              "      <td>0.23</td>\n",
              "      <td>0.32</td>\n",
              "      <td>8.5</td>\n",
              "      <td>0.058</td>\n",
              "      <td>47.0</td>\n",
              "      <td>186.0</td>\n",
              "      <td>0.9956</td>\n",
              "      <td>3.19</td>\n",
              "      <td>0.40</td>\n",
              "      <td>9.9</td>\n",
              "      <td>6</td>\n",
              "    </tr>\n",
              "    <tr>\n",
              "      <th>4</th>\n",
              "      <td>7.2</td>\n",
              "      <td>0.23</td>\n",
              "      <td>0.32</td>\n",
              "      <td>8.5</td>\n",
              "      <td>0.058</td>\n",
              "      <td>47.0</td>\n",
              "      <td>186.0</td>\n",
              "      <td>0.9956</td>\n",
              "      <td>3.19</td>\n",
              "      <td>0.40</td>\n",
              "      <td>9.9</td>\n",
              "      <td>6</td>\n",
              "    </tr>\n",
              "  </tbody>\n",
              "</table>\n",
              "</div>"
            ],
            "text/plain": [
              "   fixed acidity  volatile acidity  citric acid  ...  sulphates  alcohol  quality\n",
              "0            7.0              0.27         0.36  ...       0.45      8.8        6\n",
              "1            6.3              0.30         0.34  ...       0.49      9.5        6\n",
              "2            8.1              0.28         0.40  ...       0.44     10.1        6\n",
              "3            7.2              0.23         0.32  ...       0.40      9.9        6\n",
              "4            7.2              0.23         0.32  ...       0.40      9.9        6\n",
              "\n",
              "[5 rows x 12 columns]"
            ]
          },
          "metadata": {
            "tags": []
          },
          "execution_count": 3
        }
      ]
    },
    {
      "cell_type": "code",
      "metadata": {
        "id": "p4QyQIw1KQBm",
        "colab": {
          "base_uri": "https://localhost:8080/",
          "height": 373
        },
        "outputId": "916b9f22-e2f7-4d1d-acd3-3ee9723bd3d6"
      },
      "source": [
        "data.info()"
      ],
      "execution_count": null,
      "outputs": [
        {
          "output_type": "stream",
          "text": [
            "<class 'pandas.core.frame.DataFrame'>\n",
            "RangeIndex: 4898 entries, 0 to 4897\n",
            "Data columns (total 12 columns):\n",
            " #   Column                Non-Null Count  Dtype  \n",
            "---  ------                --------------  -----  \n",
            " 0   fixed acidity         4898 non-null   float64\n",
            " 1   volatile acidity      4898 non-null   float64\n",
            " 2   citric acid           4898 non-null   float64\n",
            " 3   residual sugar        4898 non-null   float64\n",
            " 4   chlorides             4898 non-null   float64\n",
            " 5   free sulfur dioxide   4898 non-null   float64\n",
            " 6   total sulfur dioxide  4898 non-null   float64\n",
            " 7   density               4898 non-null   float64\n",
            " 8   pH                    4898 non-null   float64\n",
            " 9   sulphates             4898 non-null   float64\n",
            " 10  alcohol               4898 non-null   float64\n",
            " 11  quality               4898 non-null   int64  \n",
            "dtypes: float64(11), int64(1)\n",
            "memory usage: 459.3 KB\n"
          ],
          "name": "stdout"
        }
      ]
    },
    {
      "cell_type": "markdown",
      "metadata": {
        "id": "JxUdpQlNKuHY"
      },
      "source": [
        "Відокремте цільову змінну, розділіть навчальну вибірку у відношенні 7:3 (30% - під задишену вибірку, нехай random_state=17) і нормалізуйте дані за допомогою StandartScaler\n"
      ]
    },
    {
      "cell_type": "code",
      "metadata": {
        "id": "KbxwdyBHKUOD"
      },
      "source": [
        "y = # Ваш код тут\n",
        "data.drop(\"quality\", axis=1, inplace=True)\n",
        "X_train, X_holdout, y_train, y_holdout = train_test_split # Ваш код тут\n",
        "scaler = StandardScaler()\n",
        "X_train_scaled = scaler.fit_transform # Ваш код тут\n",
        "X_holdout_scaled = scaler.transform # Ваш код тут"
      ],
      "execution_count": null,
      "outputs": []
    },
    {
      "cell_type": "markdown",
      "metadata": {
        "id": "vR7j5shiNDf6"
      },
      "source": [
        "## Лінійна регресія \n"
      ]
    },
    {
      "cell_type": "markdown",
      "metadata": {
        "id": "HrCqZbs8NJ5R"
      },
      "source": [
        "Навчіть просту лінійну модель регресії"
      ]
    },
    {
      "cell_type": "code",
      "metadata": {
        "id": "9jFdkaGjNN8B"
      },
      "source": [
        "linreg =   # Ваш код тут\n",
        "linreg.fit # Ваш код тут"
      ],
      "execution_count": null,
      "outputs": []
    },
    {
      "cell_type": "markdown",
      "metadata": {
        "id": "h0OJ9nQnNY_z"
      },
      "source": [
        "> **Питання 1 : Які середньоквадратичні помилки лінійної регресії на навчальній і відкоаденій вибірках ?**"
      ]
    },
    {
      "cell_type": "code",
      "metadata": {
        "id": "oD0MiucEMl9p"
      },
      "source": [
        "print(\"Mean squared error (train): %.3f\" % # Ваш код тут\n",
        "print(\"Mean squared error (test): %.3f\" % # Ваш код тут"
      ],
      "execution_count": null,
      "outputs": []
    },
    {
      "cell_type": "markdown",
      "metadata": {
        "id": "tbA9C4neOgP5"
      },
      "source": [
        "Подивіться на коефіцієнти моделі і ранжуйте ознаки за впливом на якість вина (врахуйте, що великі за модулем негативні значення коефіцієнтів теж говорять про сильний вплив). Створіть для цього новий невеликий DataFrame.\n",
        "> **Питання 2 : Яку ознаку лінійна регресія вважає найбільш впливовою на якість вина?**\n",
        "\n",
        "\n"
      ]
    },
    {
      "cell_type": "code",
      "metadata": {
        "id": "QdSu4E1jOfJ6"
      },
      "source": [
        "linreg_coef = pd.DataFrame # Ваш код тут\n",
        "linreg_coef.sort_values # Ваш код тут"
      ],
      "execution_count": null,
      "outputs": []
    },
    {
      "cell_type": "markdown",
      "metadata": {
        "id": "pxWYyJE3Ppia"
      },
      "source": [
        "## Lasso-регресія "
      ]
    },
    {
      "cell_type": "markdown",
      "metadata": {
        "id": "1T2F966HPuZ0"
      },
      "source": [
        "**Навчіть Lasso-регресію з невеликим коефіцієнтом alpha=0,01 (слабка регуляризація). Нехай знову random_state=17.**\n"
      ]
    },
    {
      "cell_type": "code",
      "metadata": {
        "id": "Jgh7LyGePmbq"
      },
      "source": [
        "lasso1 = Lasso # Ваш код тут\n",
        "lasso1.fit # Ваш код тут"
      ],
      "execution_count": null,
      "outputs": []
    },
    {
      "cell_type": "markdown",
      "metadata": {
        "id": "L83Ay-0AR2De"
      },
      "source": [
        "**Подивіться на коефіцієнти моделі і ранжуйте ознаки за впливом на якість вина. Яка ознака \"відпала\" першою, тобто найменш важлива для пояснення цільової змінної в моделі Lasso?**"
      ]
    },
    {
      "cell_type": "code",
      "metadata": {
        "id": "FlANTTYHSQQy"
      },
      "source": [
        "lasso1_coef = pd.DataFrame # Ваш код тут\n",
        "lasso1_coef.sort_values # Ваш код тут"
      ],
      "execution_count": null,
      "outputs": []
    },
    {
      "cell_type": "markdown",
      "metadata": {
        "id": "h3dwFTdsSf9T"
      },
      "source": [
        "**Тепер визначте краще значення alpha в процесі 5-кратної крос-валідації. Використовуйте LassoCV і random_state = 17.**"
      ]
    },
    {
      "cell_type": "code",
      "metadata": {
        "id": "xOl_u0PPSdEB"
      },
      "source": [
        "alphas = np.logspace(-6, 2, 200)\n",
        "lasso_cv = LassoCV # Ваш код тут\n",
        "lasso_cv.fit # Ваш код тут"
      ],
      "execution_count": null,
      "outputs": []
    },
    {
      "cell_type": "code",
      "metadata": {
        "id": "dvQUsxV_TDq3"
      },
      "source": [
        "lasso_cv.alpha_"
      ],
      "execution_count": null,
      "outputs": []
    },
    {
      "cell_type": "markdown",
      "metadata": {
        "id": "Og97BgrxTHkl"
      },
      "source": [
        "Виведіть коефіцієнти \"кращого\" Lasso в порядку зменшення впливу на якість вина.\n",
        "> **Питання 3: Яка ознака \"занулилася першою\" в налаштованій моделі LASSO?**"
      ]
    },
    {
      "cell_type": "code",
      "metadata": {
        "id": "t5yAXuqaTkV1"
      },
      "source": [
        "lasso_cv_coef = pd.DataFrame # Ваш код тут\n",
        "lasso_cv_coef.sort_values # Ваш код тут"
      ],
      "execution_count": null,
      "outputs": []
    },
    {
      "cell_type": "markdown",
      "metadata": {
        "id": "r8ldGdAVT0XD"
      },
      "source": [
        "**Оцініть середньоквадратичну помилку моделі на навчальній і тестовій вибірках.**"
      ]
    },
    {
      "cell_type": "markdown",
      "metadata": {
        "id": "Vqx3FuFxT-cS"
      },
      "source": [
        "> **Питання 4 : Які середньоквадратичні помилки налаштованої LASSO-регресії на навчальній і відкладеній вибірках?**"
      ]
    },
    {
      "cell_type": "code",
      "metadata": {
        "id": "uNzRRRcEUO2N"
      },
      "source": [
        "print(\"Mean squared error (train): %.3f\" % # Ваш код тут\n",
        "print(\"Mean squared error (test): %.3f\" % # Ваш код тут\n"
      ],
      "execution_count": null,
      "outputs": []
    },
    {
      "cell_type": "markdown",
      "metadata": {
        "id": "C9kL4mAtUijL"
      },
      "source": [
        "## Випадковий ліс"
      ]
    },
    {
      "cell_type": "markdown",
      "metadata": {
        "id": "zNYDtkGdUmLZ"
      },
      "source": [
        "**Навчіть випадковий ліс з параметрами \"з коробки\", фіксуючи тільки random_state=17.**"
      ]
    },
    {
      "cell_type": "code",
      "metadata": {
        "id": "WqDkWjgCUyyB"
      },
      "source": [
        "forest = RandomForestRegressor # Ваш код тут\n",
        "forest.fit # Ваш код тут"
      ],
      "execution_count": null,
      "outputs": []
    },
    {
      "cell_type": "markdown",
      "metadata": {
        "id": "BG6TgbBhU94i"
      },
      "source": [
        "> **Питання 5 : Які середньоквадратичні помилки випадкового лысу на навчальній вибірці, на крос-валідації (cross_val_score з scoring='neg_mean_squared_error' і іншими параметрами за замовчуванням) і відкладеній вибірках?**"
      ]
    },
    {
      "cell_type": "code",
      "metadata": {
        "id": "FmK70KIbVc4-"
      },
      "source": [
        "print(\"Mean squared error (train): %.3f\" % # Ваш код тут\n",
        "print(\"Mean squared error (cv): %.3f\" % # Ваш код тут\n",
        "print(\"Mean squared error (test): %.3f\" % # Ваш код тут"
      ],
      "execution_count": null,
      "outputs": []
    },
    {
      "cell_type": "markdown",
      "metadata": {
        "id": "sB5A2KLSVn0U"
      },
      "source": [
        "**Налаштуйте параметри min_samples_leaf і max_depth за допомогою GridSearchCV і знову перевірте якість моделі на крос-валідації і на відкладеній вибірках.**"
      ]
    },
    {
      "cell_type": "code",
      "metadata": {
        "id": "iLtV0hxIW5D9"
      },
      "source": [
        "forest_params = {'max_depth': list(range(10, 25)),\n",
        "                 'min_samples_leaf': list(range(1, 8)),\n",
        "                 'max_features': list(range(6, 12))}\n",
        "locally_best_forest = GridSearchCV # Ваш код тут\n",
        "locally_best_forest.fit # Ваш код тут\n"
      ],
      "execution_count": null,
      "outputs": []
    },
    {
      "cell_type": "code",
      "metadata": {
        "id": "_VhZKKgOYAUA"
      },
      "source": [
        "locally_best_forest.best_params_, locally_best_forest.best_score_"
      ],
      "execution_count": null,
      "outputs": []
    },
    {
      "cell_type": "markdown",
      "metadata": {
        "id": "-hJLmGV_kAmi"
      },
      "source": [
        "**Нажал результати GridSearchCV в повному не відтворювані (можуть відрізнятися на різних платформах навіть при фіксованому random_state). Тому навчіть ліс з параметрами max_depth=19, max_features=7, i min_samples_leaf=1 (краще в моэму випадку).**\n",
        "> **Питання 6 : Які середньоквадратичні помилки налаштованого випадкового лісу на навчальній вибірці, на крос-валідації (cross_val_score з scoring='neg_mean_squared_error') і на відкладеній вибірках?**\n"
      ]
    },
    {
      "cell_type": "code",
      "metadata": {
        "id": "2sh4try2lNue"
      },
      "source": [
        "print(\"Mean squared error (cv): %.3f\" % # Ваш код тут\n",
        "print(\"Mean squared error (test): %.3f\" % # Ваш код тут"
      ],
      "execution_count": null,
      "outputs": []
    },
    {
      "cell_type": "markdown",
      "metadata": {
        "id": "4ssFaBCQlULN"
      },
      "source": [
        "**Оцініть важливість ознак за допомогою випадкового лісу.**\n",
        ">**Питання 7 : Яка ознака виявилася найінформативнішою в налаштованій моделі випадкового лісу?**"
      ]
    },
    {
      "cell_type": "code",
      "metadata": {
        "id": "dZYaVtjglrxn"
      },
      "source": [
        "rf_importance = pd.DataFrame # Ваш код тут\n",
        "rf_importance.sort_values # Ваш код тут"
      ],
      "execution_count": null,
      "outputs": []
    },
    {
      "cell_type": "markdown",
      "metadata": {
        "id": "eaFY-EXfl59f"
      },
      "source": [
        "**Зробіть висновки про якість моделей і оцінки впливу ознак на якість вина за допомогою цих трьох моделей**"
      ]
    }
  ]
}