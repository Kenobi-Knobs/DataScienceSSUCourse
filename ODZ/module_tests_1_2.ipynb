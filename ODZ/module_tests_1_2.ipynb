{
  "nbformat": 4,
  "nbformat_minor": 0,
  "metadata": {
    "colab": {
      "provenance": []
    },
    "kernelspec": {
      "name": "python3",
      "display_name": "Python 3"
    }
  },
  "cells": [
    {
      "cell_type": "markdown",
      "metadata": {
        "id": "XorN1zkUMriM"
      },
      "source": [
        "# <center> Контрольна робота  №1 та №2 (ОДЗ)\n"
      ]
    },
    {
      "cell_type": "code",
      "metadata": {
        "id": "rn4q-J9dHivQ"
      },
      "source": [
        "import pandas as pd\n",
        "import numpy as np\n",
        "from sklearn.metrics import mean_squared_error\n",
        "from sklearn.preprocessing import StandardScaler\n",
        "from sklearn.model_selection import GridSearchCV\n",
        "from sklearn.model_selection import cross_val_score, train_test_split\n",
        "from sklearn.linear_model import LinearRegression, LassoCV, Lasso\n",
        "from sklearn.ensemble import RandomForestRegressor"
      ],
      "execution_count": 2,
      "outputs": []
    },
    {
      "cell_type": "markdown",
      "metadata": {
        "id": "2xXDtSgIHn9y"
      },
      "source": [
        "У завданні буде використано набір даних про якість білого вина(репозиторій UCI) \n",
        "archive.ics.uci.edu/ml/machine-learning-databases/wine-quality.\n",
        "Завантажте дані"
      ]
    },
    {
      "cell_type": "code",
      "metadata": {
        "id": "kVSqVCKHJqKp",
        "colab": {
          "base_uri": "https://localhost:8080/",
          "height": 554
        },
        "outputId": "7574fec5-ecdb-497f-b232-fc57df35612c"
      },
      "source": [
        "!mkdir -p data \n",
        "!wget -P data -c https://archive.ics.uci.edu/ml/machine-learning-databases/wine-quality/winequality-white.csv \n",
        "\n",
        "data = pd.read_csv(\"data/winequality-white.csv\", sep=\";\")\n",
        "display(data.sample(10))"
      ],
      "execution_count": 3,
      "outputs": [
        {
          "output_type": "stream",
          "name": "stdout",
          "text": [
            "--2022-11-30 22:07:12--  https://archive.ics.uci.edu/ml/machine-learning-databases/wine-quality/winequality-white.csv\n",
            "Resolving archive.ics.uci.edu (archive.ics.uci.edu)... 128.195.10.252\n",
            "Connecting to archive.ics.uci.edu (archive.ics.uci.edu)|128.195.10.252|:443... connected.\n",
            "HTTP request sent, awaiting response... 200 OK\n",
            "Length: 264426 (258K) [application/x-httpd-php]\n",
            "Saving to: ‘data/winequality-white.csv’\n",
            "\n",
            "\rwinequality-white.c   0%[                    ]       0  --.-KB/s               \rwinequality-white.c 100%[===================>] 258.23K  --.-KB/s    in 0.06s   \n",
            "\n",
            "2022-11-30 22:07:12 (4.27 MB/s) - ‘data/winequality-white.csv’ saved [264426/264426]\n",
            "\n"
          ]
        },
        {
          "output_type": "display_data",
          "data": {
            "text/plain": [
              "      fixed acidity  volatile acidity  citric acid  residual sugar  chlorides  \\\n",
              "4796            6.4             0.105         0.29             1.1      0.035   \n",
              "3682            6.4             0.160         0.44             1.2      0.051   \n",
              "1031            6.2             0.340         0.29             7.6      0.047   \n",
              "3071            6.5             0.360         0.38            10.2      0.028   \n",
              "2323            7.6             0.200         0.34             1.8      0.041   \n",
              "160             6.1             0.320         0.24             1.5      0.036   \n",
              "2967            6.6             0.230         0.30            14.9      0.051   \n",
              "1227            6.9             0.180         0.38             6.5      0.039   \n",
              "289             7.2             0.230         0.39            14.2      0.058   \n",
              "1313            9.2             0.320         0.42             1.3      0.046   \n",
              "\n",
              "      free sulfur dioxide  total sulfur dioxide  density    pH  sulphates  \\\n",
              "4796                 44.0                 140.0  0.99142  3.17       0.55   \n",
              "3682                 39.0                 122.0  0.99058  3.11       0.75   \n",
              "1031                 45.0                 232.0  0.99550  3.35       0.62   \n",
              "3071                 20.0                  82.0  0.99274  3.10       0.43   \n",
              "2323                 42.0                 148.0  0.99335  3.35       0.66   \n",
              "160                  38.0                 124.0  0.98980  3.29       0.42   \n",
              "2967                 33.0                 118.0  0.99835  3.04       0.54   \n",
              "1227                 20.0                 110.0  0.99430  3.10       0.42   \n",
              "289                  49.0                 192.0  0.99790  2.98       0.48   \n",
              "1313                 14.0                 186.0  0.99490  3.08       0.48   \n",
              "\n",
              "      alcohol  quality  \n",
              "4796     10.7        7  \n",
              "3682     11.3        7  \n",
              "1031     10.0        6  \n",
              "3071     12.1        7  \n",
              "2323     11.1        6  \n",
              "160      12.4        7  \n",
              "2967      9.0        6  \n",
              "1227     10.5        5  \n",
              "289       9.0        7  \n",
              "1313      9.6        5  "
            ],
            "text/html": [
              "\n",
              "  <div id=\"df-653a28fb-80a8-47fd-b72b-5be9224e44ab\">\n",
              "    <div class=\"colab-df-container\">\n",
              "      <div>\n",
              "<style scoped>\n",
              "    .dataframe tbody tr th:only-of-type {\n",
              "        vertical-align: middle;\n",
              "    }\n",
              "\n",
              "    .dataframe tbody tr th {\n",
              "        vertical-align: top;\n",
              "    }\n",
              "\n",
              "    .dataframe thead th {\n",
              "        text-align: right;\n",
              "    }\n",
              "</style>\n",
              "<table border=\"1\" class=\"dataframe\">\n",
              "  <thead>\n",
              "    <tr style=\"text-align: right;\">\n",
              "      <th></th>\n",
              "      <th>fixed acidity</th>\n",
              "      <th>volatile acidity</th>\n",
              "      <th>citric acid</th>\n",
              "      <th>residual sugar</th>\n",
              "      <th>chlorides</th>\n",
              "      <th>free sulfur dioxide</th>\n",
              "      <th>total sulfur dioxide</th>\n",
              "      <th>density</th>\n",
              "      <th>pH</th>\n",
              "      <th>sulphates</th>\n",
              "      <th>alcohol</th>\n",
              "      <th>quality</th>\n",
              "    </tr>\n",
              "  </thead>\n",
              "  <tbody>\n",
              "    <tr>\n",
              "      <th>4796</th>\n",
              "      <td>6.4</td>\n",
              "      <td>0.105</td>\n",
              "      <td>0.29</td>\n",
              "      <td>1.1</td>\n",
              "      <td>0.035</td>\n",
              "      <td>44.0</td>\n",
              "      <td>140.0</td>\n",
              "      <td>0.99142</td>\n",
              "      <td>3.17</td>\n",
              "      <td>0.55</td>\n",
              "      <td>10.7</td>\n",
              "      <td>7</td>\n",
              "    </tr>\n",
              "    <tr>\n",
              "      <th>3682</th>\n",
              "      <td>6.4</td>\n",
              "      <td>0.160</td>\n",
              "      <td>0.44</td>\n",
              "      <td>1.2</td>\n",
              "      <td>0.051</td>\n",
              "      <td>39.0</td>\n",
              "      <td>122.0</td>\n",
              "      <td>0.99058</td>\n",
              "      <td>3.11</td>\n",
              "      <td>0.75</td>\n",
              "      <td>11.3</td>\n",
              "      <td>7</td>\n",
              "    </tr>\n",
              "    <tr>\n",
              "      <th>1031</th>\n",
              "      <td>6.2</td>\n",
              "      <td>0.340</td>\n",
              "      <td>0.29</td>\n",
              "      <td>7.6</td>\n",
              "      <td>0.047</td>\n",
              "      <td>45.0</td>\n",
              "      <td>232.0</td>\n",
              "      <td>0.99550</td>\n",
              "      <td>3.35</td>\n",
              "      <td>0.62</td>\n",
              "      <td>10.0</td>\n",
              "      <td>6</td>\n",
              "    </tr>\n",
              "    <tr>\n",
              "      <th>3071</th>\n",
              "      <td>6.5</td>\n",
              "      <td>0.360</td>\n",
              "      <td>0.38</td>\n",
              "      <td>10.2</td>\n",
              "      <td>0.028</td>\n",
              "      <td>20.0</td>\n",
              "      <td>82.0</td>\n",
              "      <td>0.99274</td>\n",
              "      <td>3.10</td>\n",
              "      <td>0.43</td>\n",
              "      <td>12.1</td>\n",
              "      <td>7</td>\n",
              "    </tr>\n",
              "    <tr>\n",
              "      <th>2323</th>\n",
              "      <td>7.6</td>\n",
              "      <td>0.200</td>\n",
              "      <td>0.34</td>\n",
              "      <td>1.8</td>\n",
              "      <td>0.041</td>\n",
              "      <td>42.0</td>\n",
              "      <td>148.0</td>\n",
              "      <td>0.99335</td>\n",
              "      <td>3.35</td>\n",
              "      <td>0.66</td>\n",
              "      <td>11.1</td>\n",
              "      <td>6</td>\n",
              "    </tr>\n",
              "    <tr>\n",
              "      <th>160</th>\n",
              "      <td>6.1</td>\n",
              "      <td>0.320</td>\n",
              "      <td>0.24</td>\n",
              "      <td>1.5</td>\n",
              "      <td>0.036</td>\n",
              "      <td>38.0</td>\n",
              "      <td>124.0</td>\n",
              "      <td>0.98980</td>\n",
              "      <td>3.29</td>\n",
              "      <td>0.42</td>\n",
              "      <td>12.4</td>\n",
              "      <td>7</td>\n",
              "    </tr>\n",
              "    <tr>\n",
              "      <th>2967</th>\n",
              "      <td>6.6</td>\n",
              "      <td>0.230</td>\n",
              "      <td>0.30</td>\n",
              "      <td>14.9</td>\n",
              "      <td>0.051</td>\n",
              "      <td>33.0</td>\n",
              "      <td>118.0</td>\n",
              "      <td>0.99835</td>\n",
              "      <td>3.04</td>\n",
              "      <td>0.54</td>\n",
              "      <td>9.0</td>\n",
              "      <td>6</td>\n",
              "    </tr>\n",
              "    <tr>\n",
              "      <th>1227</th>\n",
              "      <td>6.9</td>\n",
              "      <td>0.180</td>\n",
              "      <td>0.38</td>\n",
              "      <td>6.5</td>\n",
              "      <td>0.039</td>\n",
              "      <td>20.0</td>\n",
              "      <td>110.0</td>\n",
              "      <td>0.99430</td>\n",
              "      <td>3.10</td>\n",
              "      <td>0.42</td>\n",
              "      <td>10.5</td>\n",
              "      <td>5</td>\n",
              "    </tr>\n",
              "    <tr>\n",
              "      <th>289</th>\n",
              "      <td>7.2</td>\n",
              "      <td>0.230</td>\n",
              "      <td>0.39</td>\n",
              "      <td>14.2</td>\n",
              "      <td>0.058</td>\n",
              "      <td>49.0</td>\n",
              "      <td>192.0</td>\n",
              "      <td>0.99790</td>\n",
              "      <td>2.98</td>\n",
              "      <td>0.48</td>\n",
              "      <td>9.0</td>\n",
              "      <td>7</td>\n",
              "    </tr>\n",
              "    <tr>\n",
              "      <th>1313</th>\n",
              "      <td>9.2</td>\n",
              "      <td>0.320</td>\n",
              "      <td>0.42</td>\n",
              "      <td>1.3</td>\n",
              "      <td>0.046</td>\n",
              "      <td>14.0</td>\n",
              "      <td>186.0</td>\n",
              "      <td>0.99490</td>\n",
              "      <td>3.08</td>\n",
              "      <td>0.48</td>\n",
              "      <td>9.6</td>\n",
              "      <td>5</td>\n",
              "    </tr>\n",
              "  </tbody>\n",
              "</table>\n",
              "</div>\n",
              "      <button class=\"colab-df-convert\" onclick=\"convertToInteractive('df-653a28fb-80a8-47fd-b72b-5be9224e44ab')\"\n",
              "              title=\"Convert this dataframe to an interactive table.\"\n",
              "              style=\"display:none;\">\n",
              "        \n",
              "  <svg xmlns=\"http://www.w3.org/2000/svg\" height=\"24px\"viewBox=\"0 0 24 24\"\n",
              "       width=\"24px\">\n",
              "    <path d=\"M0 0h24v24H0V0z\" fill=\"none\"/>\n",
              "    <path d=\"M18.56 5.44l.94 2.06.94-2.06 2.06-.94-2.06-.94-.94-2.06-.94 2.06-2.06.94zm-11 1L8.5 8.5l.94-2.06 2.06-.94-2.06-.94L8.5 2.5l-.94 2.06-2.06.94zm10 10l.94 2.06.94-2.06 2.06-.94-2.06-.94-.94-2.06-.94 2.06-2.06.94z\"/><path d=\"M17.41 7.96l-1.37-1.37c-.4-.4-.92-.59-1.43-.59-.52 0-1.04.2-1.43.59L10.3 9.45l-7.72 7.72c-.78.78-.78 2.05 0 2.83L4 21.41c.39.39.9.59 1.41.59.51 0 1.02-.2 1.41-.59l7.78-7.78 2.81-2.81c.8-.78.8-2.07 0-2.86zM5.41 20L4 18.59l7.72-7.72 1.47 1.35L5.41 20z\"/>\n",
              "  </svg>\n",
              "      </button>\n",
              "      \n",
              "  <style>\n",
              "    .colab-df-container {\n",
              "      display:flex;\n",
              "      flex-wrap:wrap;\n",
              "      gap: 12px;\n",
              "    }\n",
              "\n",
              "    .colab-df-convert {\n",
              "      background-color: #E8F0FE;\n",
              "      border: none;\n",
              "      border-radius: 50%;\n",
              "      cursor: pointer;\n",
              "      display: none;\n",
              "      fill: #1967D2;\n",
              "      height: 32px;\n",
              "      padding: 0 0 0 0;\n",
              "      width: 32px;\n",
              "    }\n",
              "\n",
              "    .colab-df-convert:hover {\n",
              "      background-color: #E2EBFA;\n",
              "      box-shadow: 0px 1px 2px rgba(60, 64, 67, 0.3), 0px 1px 3px 1px rgba(60, 64, 67, 0.15);\n",
              "      fill: #174EA6;\n",
              "    }\n",
              "\n",
              "    [theme=dark] .colab-df-convert {\n",
              "      background-color: #3B4455;\n",
              "      fill: #D2E3FC;\n",
              "    }\n",
              "\n",
              "    [theme=dark] .colab-df-convert:hover {\n",
              "      background-color: #434B5C;\n",
              "      box-shadow: 0px 1px 3px 1px rgba(0, 0, 0, 0.15);\n",
              "      filter: drop-shadow(0px 1px 2px rgba(0, 0, 0, 0.3));\n",
              "      fill: #FFFFFF;\n",
              "    }\n",
              "  </style>\n",
              "\n",
              "      <script>\n",
              "        const buttonEl =\n",
              "          document.querySelector('#df-653a28fb-80a8-47fd-b72b-5be9224e44ab button.colab-df-convert');\n",
              "        buttonEl.style.display =\n",
              "          google.colab.kernel.accessAllowed ? 'block' : 'none';\n",
              "\n",
              "        async function convertToInteractive(key) {\n",
              "          const element = document.querySelector('#df-653a28fb-80a8-47fd-b72b-5be9224e44ab');\n",
              "          const dataTable =\n",
              "            await google.colab.kernel.invokeFunction('convertToInteractive',\n",
              "                                                     [key], {});\n",
              "          if (!dataTable) return;\n",
              "\n",
              "          const docLinkHtml = 'Like what you see? Visit the ' +\n",
              "            '<a target=\"_blank\" href=https://colab.research.google.com/notebooks/data_table.ipynb>data table notebook</a>'\n",
              "            + ' to learn more about interactive tables.';\n",
              "          element.innerHTML = '';\n",
              "          dataTable['output_type'] = 'display_data';\n",
              "          await google.colab.output.renderOutput(dataTable, element);\n",
              "          const docLink = document.createElement('div');\n",
              "          docLink.innerHTML = docLinkHtml;\n",
              "          element.appendChild(docLink);\n",
              "        }\n",
              "      </script>\n",
              "    </div>\n",
              "  </div>\n",
              "  "
            ]
          },
          "metadata": {}
        }
      ]
    },
    {
      "cell_type": "code",
      "metadata": {
        "id": "ee08Kx8QJy1A",
        "colab": {
          "base_uri": "https://localhost:8080/",
          "height": 206
        },
        "outputId": "90517744-80e4-4a8a-fa47-d746df3dacc4"
      },
      "source": [
        "data.head()"
      ],
      "execution_count": 4,
      "outputs": [
        {
          "output_type": "execute_result",
          "data": {
            "text/plain": [
              "   fixed acidity  volatile acidity  citric acid  residual sugar  chlorides  \\\n",
              "0            7.0              0.27         0.36            20.7      0.045   \n",
              "1            6.3              0.30         0.34             1.6      0.049   \n",
              "2            8.1              0.28         0.40             6.9      0.050   \n",
              "3            7.2              0.23         0.32             8.5      0.058   \n",
              "4            7.2              0.23         0.32             8.5      0.058   \n",
              "\n",
              "   free sulfur dioxide  total sulfur dioxide  density    pH  sulphates  \\\n",
              "0                 45.0                 170.0   1.0010  3.00       0.45   \n",
              "1                 14.0                 132.0   0.9940  3.30       0.49   \n",
              "2                 30.0                  97.0   0.9951  3.26       0.44   \n",
              "3                 47.0                 186.0   0.9956  3.19       0.40   \n",
              "4                 47.0                 186.0   0.9956  3.19       0.40   \n",
              "\n",
              "   alcohol  quality  \n",
              "0      8.8        6  \n",
              "1      9.5        6  \n",
              "2     10.1        6  \n",
              "3      9.9        6  \n",
              "4      9.9        6  "
            ],
            "text/html": [
              "\n",
              "  <div id=\"df-006a3ac5-ac20-4239-a6e3-5ba10ee252b5\">\n",
              "    <div class=\"colab-df-container\">\n",
              "      <div>\n",
              "<style scoped>\n",
              "    .dataframe tbody tr th:only-of-type {\n",
              "        vertical-align: middle;\n",
              "    }\n",
              "\n",
              "    .dataframe tbody tr th {\n",
              "        vertical-align: top;\n",
              "    }\n",
              "\n",
              "    .dataframe thead th {\n",
              "        text-align: right;\n",
              "    }\n",
              "</style>\n",
              "<table border=\"1\" class=\"dataframe\">\n",
              "  <thead>\n",
              "    <tr style=\"text-align: right;\">\n",
              "      <th></th>\n",
              "      <th>fixed acidity</th>\n",
              "      <th>volatile acidity</th>\n",
              "      <th>citric acid</th>\n",
              "      <th>residual sugar</th>\n",
              "      <th>chlorides</th>\n",
              "      <th>free sulfur dioxide</th>\n",
              "      <th>total sulfur dioxide</th>\n",
              "      <th>density</th>\n",
              "      <th>pH</th>\n",
              "      <th>sulphates</th>\n",
              "      <th>alcohol</th>\n",
              "      <th>quality</th>\n",
              "    </tr>\n",
              "  </thead>\n",
              "  <tbody>\n",
              "    <tr>\n",
              "      <th>0</th>\n",
              "      <td>7.0</td>\n",
              "      <td>0.27</td>\n",
              "      <td>0.36</td>\n",
              "      <td>20.7</td>\n",
              "      <td>0.045</td>\n",
              "      <td>45.0</td>\n",
              "      <td>170.0</td>\n",
              "      <td>1.0010</td>\n",
              "      <td>3.00</td>\n",
              "      <td>0.45</td>\n",
              "      <td>8.8</td>\n",
              "      <td>6</td>\n",
              "    </tr>\n",
              "    <tr>\n",
              "      <th>1</th>\n",
              "      <td>6.3</td>\n",
              "      <td>0.30</td>\n",
              "      <td>0.34</td>\n",
              "      <td>1.6</td>\n",
              "      <td>0.049</td>\n",
              "      <td>14.0</td>\n",
              "      <td>132.0</td>\n",
              "      <td>0.9940</td>\n",
              "      <td>3.30</td>\n",
              "      <td>0.49</td>\n",
              "      <td>9.5</td>\n",
              "      <td>6</td>\n",
              "    </tr>\n",
              "    <tr>\n",
              "      <th>2</th>\n",
              "      <td>8.1</td>\n",
              "      <td>0.28</td>\n",
              "      <td>0.40</td>\n",
              "      <td>6.9</td>\n",
              "      <td>0.050</td>\n",
              "      <td>30.0</td>\n",
              "      <td>97.0</td>\n",
              "      <td>0.9951</td>\n",
              "      <td>3.26</td>\n",
              "      <td>0.44</td>\n",
              "      <td>10.1</td>\n",
              "      <td>6</td>\n",
              "    </tr>\n",
              "    <tr>\n",
              "      <th>3</th>\n",
              "      <td>7.2</td>\n",
              "      <td>0.23</td>\n",
              "      <td>0.32</td>\n",
              "      <td>8.5</td>\n",
              "      <td>0.058</td>\n",
              "      <td>47.0</td>\n",
              "      <td>186.0</td>\n",
              "      <td>0.9956</td>\n",
              "      <td>3.19</td>\n",
              "      <td>0.40</td>\n",
              "      <td>9.9</td>\n",
              "      <td>6</td>\n",
              "    </tr>\n",
              "    <tr>\n",
              "      <th>4</th>\n",
              "      <td>7.2</td>\n",
              "      <td>0.23</td>\n",
              "      <td>0.32</td>\n",
              "      <td>8.5</td>\n",
              "      <td>0.058</td>\n",
              "      <td>47.0</td>\n",
              "      <td>186.0</td>\n",
              "      <td>0.9956</td>\n",
              "      <td>3.19</td>\n",
              "      <td>0.40</td>\n",
              "      <td>9.9</td>\n",
              "      <td>6</td>\n",
              "    </tr>\n",
              "  </tbody>\n",
              "</table>\n",
              "</div>\n",
              "      <button class=\"colab-df-convert\" onclick=\"convertToInteractive('df-006a3ac5-ac20-4239-a6e3-5ba10ee252b5')\"\n",
              "              title=\"Convert this dataframe to an interactive table.\"\n",
              "              style=\"display:none;\">\n",
              "        \n",
              "  <svg xmlns=\"http://www.w3.org/2000/svg\" height=\"24px\"viewBox=\"0 0 24 24\"\n",
              "       width=\"24px\">\n",
              "    <path d=\"M0 0h24v24H0V0z\" fill=\"none\"/>\n",
              "    <path d=\"M18.56 5.44l.94 2.06.94-2.06 2.06-.94-2.06-.94-.94-2.06-.94 2.06-2.06.94zm-11 1L8.5 8.5l.94-2.06 2.06-.94-2.06-.94L8.5 2.5l-.94 2.06-2.06.94zm10 10l.94 2.06.94-2.06 2.06-.94-2.06-.94-.94-2.06-.94 2.06-2.06.94z\"/><path d=\"M17.41 7.96l-1.37-1.37c-.4-.4-.92-.59-1.43-.59-.52 0-1.04.2-1.43.59L10.3 9.45l-7.72 7.72c-.78.78-.78 2.05 0 2.83L4 21.41c.39.39.9.59 1.41.59.51 0 1.02-.2 1.41-.59l7.78-7.78 2.81-2.81c.8-.78.8-2.07 0-2.86zM5.41 20L4 18.59l7.72-7.72 1.47 1.35L5.41 20z\"/>\n",
              "  </svg>\n",
              "      </button>\n",
              "      \n",
              "  <style>\n",
              "    .colab-df-container {\n",
              "      display:flex;\n",
              "      flex-wrap:wrap;\n",
              "      gap: 12px;\n",
              "    }\n",
              "\n",
              "    .colab-df-convert {\n",
              "      background-color: #E8F0FE;\n",
              "      border: none;\n",
              "      border-radius: 50%;\n",
              "      cursor: pointer;\n",
              "      display: none;\n",
              "      fill: #1967D2;\n",
              "      height: 32px;\n",
              "      padding: 0 0 0 0;\n",
              "      width: 32px;\n",
              "    }\n",
              "\n",
              "    .colab-df-convert:hover {\n",
              "      background-color: #E2EBFA;\n",
              "      box-shadow: 0px 1px 2px rgba(60, 64, 67, 0.3), 0px 1px 3px 1px rgba(60, 64, 67, 0.15);\n",
              "      fill: #174EA6;\n",
              "    }\n",
              "\n",
              "    [theme=dark] .colab-df-convert {\n",
              "      background-color: #3B4455;\n",
              "      fill: #D2E3FC;\n",
              "    }\n",
              "\n",
              "    [theme=dark] .colab-df-convert:hover {\n",
              "      background-color: #434B5C;\n",
              "      box-shadow: 0px 1px 3px 1px rgba(0, 0, 0, 0.15);\n",
              "      filter: drop-shadow(0px 1px 2px rgba(0, 0, 0, 0.3));\n",
              "      fill: #FFFFFF;\n",
              "    }\n",
              "  </style>\n",
              "\n",
              "      <script>\n",
              "        const buttonEl =\n",
              "          document.querySelector('#df-006a3ac5-ac20-4239-a6e3-5ba10ee252b5 button.colab-df-convert');\n",
              "        buttonEl.style.display =\n",
              "          google.colab.kernel.accessAllowed ? 'block' : 'none';\n",
              "\n",
              "        async function convertToInteractive(key) {\n",
              "          const element = document.querySelector('#df-006a3ac5-ac20-4239-a6e3-5ba10ee252b5');\n",
              "          const dataTable =\n",
              "            await google.colab.kernel.invokeFunction('convertToInteractive',\n",
              "                                                     [key], {});\n",
              "          if (!dataTable) return;\n",
              "\n",
              "          const docLinkHtml = 'Like what you see? Visit the ' +\n",
              "            '<a target=\"_blank\" href=https://colab.research.google.com/notebooks/data_table.ipynb>data table notebook</a>'\n",
              "            + ' to learn more about interactive tables.';\n",
              "          element.innerHTML = '';\n",
              "          dataTable['output_type'] = 'display_data';\n",
              "          await google.colab.output.renderOutput(dataTable, element);\n",
              "          const docLink = document.createElement('div');\n",
              "          docLink.innerHTML = docLinkHtml;\n",
              "          element.appendChild(docLink);\n",
              "        }\n",
              "      </script>\n",
              "    </div>\n",
              "  </div>\n",
              "  "
            ]
          },
          "metadata": {},
          "execution_count": 4
        }
      ]
    },
    {
      "cell_type": "code",
      "metadata": {
        "id": "p4QyQIw1KQBm",
        "colab": {
          "base_uri": "https://localhost:8080/"
        },
        "outputId": "0f661d20-7484-4fa5-e6f5-dc9605fca919"
      },
      "source": [
        "data.info()"
      ],
      "execution_count": 5,
      "outputs": [
        {
          "output_type": "stream",
          "name": "stdout",
          "text": [
            "<class 'pandas.core.frame.DataFrame'>\n",
            "RangeIndex: 4898 entries, 0 to 4897\n",
            "Data columns (total 12 columns):\n",
            " #   Column                Non-Null Count  Dtype  \n",
            "---  ------                --------------  -----  \n",
            " 0   fixed acidity         4898 non-null   float64\n",
            " 1   volatile acidity      4898 non-null   float64\n",
            " 2   citric acid           4898 non-null   float64\n",
            " 3   residual sugar        4898 non-null   float64\n",
            " 4   chlorides             4898 non-null   float64\n",
            " 5   free sulfur dioxide   4898 non-null   float64\n",
            " 6   total sulfur dioxide  4898 non-null   float64\n",
            " 7   density               4898 non-null   float64\n",
            " 8   pH                    4898 non-null   float64\n",
            " 9   sulphates             4898 non-null   float64\n",
            " 10  alcohol               4898 non-null   float64\n",
            " 11  quality               4898 non-null   int64  \n",
            "dtypes: float64(11), int64(1)\n",
            "memory usage: 459.3 KB\n"
          ]
        }
      ]
    },
    {
      "cell_type": "markdown",
      "metadata": {
        "id": "JxUdpQlNKuHY"
      },
      "source": [
        "Відокремте цільову змінну, розділіть навчальну вибірку у відношенні 7:3 (30% - під задишену вибірку, нехай random_state=17) і нормалізуйте дані за допомогою StandartScaler\n"
      ]
    },
    {
      "cell_type": "code",
      "metadata": {
        "id": "KbxwdyBHKUOD"
      },
      "source": [
        "y = data.quality\n",
        "data.drop(\"quality\", axis=1, inplace=True)\n",
        "X_train, X_holdout, y_train, y_holdout = train_test_split(data.iloc[:,:-1], y, test_size=0.3, random_state=17)\n",
        "scaler = StandardScaler()\n",
        "X_train_scaled = scaler.fit_transform(X_train)\n",
        "X_holdout_scaled = scaler.transform(X_holdout)"
      ],
      "execution_count": 6,
      "outputs": []
    },
    {
      "cell_type": "markdown",
      "metadata": {
        "id": "vR7j5shiNDf6"
      },
      "source": [
        "## Лінійна регресія \n"
      ]
    },
    {
      "cell_type": "markdown",
      "metadata": {
        "id": "HrCqZbs8NJ5R"
      },
      "source": [
        "Навчіть просту лінійну модель регресії"
      ]
    },
    {
      "cell_type": "code",
      "metadata": {
        "id": "9jFdkaGjNN8B",
        "outputId": "e36f21e9-832b-47e4-872d-459a33ddf63b",
        "colab": {
          "base_uri": "https://localhost:8080/"
        }
      },
      "source": [
        "linreg =   LinearRegression()\n",
        "linreg.fit(X_train, y_train)"
      ],
      "execution_count": 7,
      "outputs": [
        {
          "output_type": "execute_result",
          "data": {
            "text/plain": [
              "LinearRegression()"
            ]
          },
          "metadata": {},
          "execution_count": 7
        }
      ]
    },
    {
      "cell_type": "markdown",
      "metadata": {
        "id": "h0OJ9nQnNY_z"
      },
      "source": [
        "> **Питання 1 : Які середньоквадратичні помилки лінійної регресії на навчальній і відкоаденій вибірках ?**"
      ]
    },
    {
      "cell_type": "code",
      "metadata": {
        "id": "oD0MiucEMl9p",
        "outputId": "a3ec2254-07a9-4d43-8fc9-6f56949fc665",
        "colab": {
          "base_uri": "https://localhost:8080/"
        }
      },
      "source": [
        "print(\"Mean squared error (train): %.3f\" % mean_squared_error(linreg.predict(X_train), y_train))\n",
        "print(\"Mean squared error (test): %.3f\" % mean_squared_error(linreg.predict(X_holdout), y_holdout))"
      ],
      "execution_count": 9,
      "outputs": [
        {
          "output_type": "stream",
          "name": "stdout",
          "text": [
            "Mean squared error (train): 0.560\n",
            "Mean squared error (test): 0.601\n"
          ]
        }
      ]
    },
    {
      "cell_type": "markdown",
      "metadata": {
        "id": "tbA9C4neOgP5"
      },
      "source": [
        "Подивіться на коефіцієнти моделі і ранжуйте ознаки за впливом на якість вина (врахуйте, що великі за модулем негативні значення коефіцієнтів теж говорять про сильний вплив). Створіть для цього новий невеликий DataFrame.\n",
        "> **Питання 2 : Яку ознаку лінійна регресія вважає найбільш впливовою на якість вина?**\n",
        "\n",
        "\n"
      ]
    },
    {
      "cell_type": "code",
      "metadata": {
        "id": "QdSu4E1jOfJ6",
        "outputId": "1579cf20-ddc4-44de-ddf9-260a60a99d1f",
        "colab": {
          "base_uri": "https://localhost:8080/",
          "height": 363
        }
      },
      "source": [
        "linreg_coef = pd.DataFrame(data=linreg.coef_, index=X_train.columns, columns=['coef'])\n",
        "linreg_coef.reindex(linreg_coef.coef.abs().sort_values(ascending=False).index)"
      ],
      "execution_count": 10,
      "outputs": [
        {
          "output_type": "execute_result",
          "data": {
            "text/plain": [
              "                            coef\n",
              "density              -304.623826\n",
              "volatile acidity       -1.828705\n",
              "pH                      1.250902\n",
              "sulphates               0.659299\n",
              "chlorides               0.421804\n",
              "fixed acidity           0.170026\n",
              "residual sugar          0.134287\n",
              "citric acid             0.027948\n",
              "free sulfur dioxide     0.002071\n",
              "total sulfur dioxide    0.000510"
            ],
            "text/html": [
              "\n",
              "  <div id=\"df-85f48c9e-fd42-49f3-ad31-147d39b784c0\">\n",
              "    <div class=\"colab-df-container\">\n",
              "      <div>\n",
              "<style scoped>\n",
              "    .dataframe tbody tr th:only-of-type {\n",
              "        vertical-align: middle;\n",
              "    }\n",
              "\n",
              "    .dataframe tbody tr th {\n",
              "        vertical-align: top;\n",
              "    }\n",
              "\n",
              "    .dataframe thead th {\n",
              "        text-align: right;\n",
              "    }\n",
              "</style>\n",
              "<table border=\"1\" class=\"dataframe\">\n",
              "  <thead>\n",
              "    <tr style=\"text-align: right;\">\n",
              "      <th></th>\n",
              "      <th>coef</th>\n",
              "    </tr>\n",
              "  </thead>\n",
              "  <tbody>\n",
              "    <tr>\n",
              "      <th>density</th>\n",
              "      <td>-304.623826</td>\n",
              "    </tr>\n",
              "    <tr>\n",
              "      <th>volatile acidity</th>\n",
              "      <td>-1.828705</td>\n",
              "    </tr>\n",
              "    <tr>\n",
              "      <th>pH</th>\n",
              "      <td>1.250902</td>\n",
              "    </tr>\n",
              "    <tr>\n",
              "      <th>sulphates</th>\n",
              "      <td>0.659299</td>\n",
              "    </tr>\n",
              "    <tr>\n",
              "      <th>chlorides</th>\n",
              "      <td>0.421804</td>\n",
              "    </tr>\n",
              "    <tr>\n",
              "      <th>fixed acidity</th>\n",
              "      <td>0.170026</td>\n",
              "    </tr>\n",
              "    <tr>\n",
              "      <th>residual sugar</th>\n",
              "      <td>0.134287</td>\n",
              "    </tr>\n",
              "    <tr>\n",
              "      <th>citric acid</th>\n",
              "      <td>0.027948</td>\n",
              "    </tr>\n",
              "    <tr>\n",
              "      <th>free sulfur dioxide</th>\n",
              "      <td>0.002071</td>\n",
              "    </tr>\n",
              "    <tr>\n",
              "      <th>total sulfur dioxide</th>\n",
              "      <td>0.000510</td>\n",
              "    </tr>\n",
              "  </tbody>\n",
              "</table>\n",
              "</div>\n",
              "      <button class=\"colab-df-convert\" onclick=\"convertToInteractive('df-85f48c9e-fd42-49f3-ad31-147d39b784c0')\"\n",
              "              title=\"Convert this dataframe to an interactive table.\"\n",
              "              style=\"display:none;\">\n",
              "        \n",
              "  <svg xmlns=\"http://www.w3.org/2000/svg\" height=\"24px\"viewBox=\"0 0 24 24\"\n",
              "       width=\"24px\">\n",
              "    <path d=\"M0 0h24v24H0V0z\" fill=\"none\"/>\n",
              "    <path d=\"M18.56 5.44l.94 2.06.94-2.06 2.06-.94-2.06-.94-.94-2.06-.94 2.06-2.06.94zm-11 1L8.5 8.5l.94-2.06 2.06-.94-2.06-.94L8.5 2.5l-.94 2.06-2.06.94zm10 10l.94 2.06.94-2.06 2.06-.94-2.06-.94-.94-2.06-.94 2.06-2.06.94z\"/><path d=\"M17.41 7.96l-1.37-1.37c-.4-.4-.92-.59-1.43-.59-.52 0-1.04.2-1.43.59L10.3 9.45l-7.72 7.72c-.78.78-.78 2.05 0 2.83L4 21.41c.39.39.9.59 1.41.59.51 0 1.02-.2 1.41-.59l7.78-7.78 2.81-2.81c.8-.78.8-2.07 0-2.86zM5.41 20L4 18.59l7.72-7.72 1.47 1.35L5.41 20z\"/>\n",
              "  </svg>\n",
              "      </button>\n",
              "      \n",
              "  <style>\n",
              "    .colab-df-container {\n",
              "      display:flex;\n",
              "      flex-wrap:wrap;\n",
              "      gap: 12px;\n",
              "    }\n",
              "\n",
              "    .colab-df-convert {\n",
              "      background-color: #E8F0FE;\n",
              "      border: none;\n",
              "      border-radius: 50%;\n",
              "      cursor: pointer;\n",
              "      display: none;\n",
              "      fill: #1967D2;\n",
              "      height: 32px;\n",
              "      padding: 0 0 0 0;\n",
              "      width: 32px;\n",
              "    }\n",
              "\n",
              "    .colab-df-convert:hover {\n",
              "      background-color: #E2EBFA;\n",
              "      box-shadow: 0px 1px 2px rgba(60, 64, 67, 0.3), 0px 1px 3px 1px rgba(60, 64, 67, 0.15);\n",
              "      fill: #174EA6;\n",
              "    }\n",
              "\n",
              "    [theme=dark] .colab-df-convert {\n",
              "      background-color: #3B4455;\n",
              "      fill: #D2E3FC;\n",
              "    }\n",
              "\n",
              "    [theme=dark] .colab-df-convert:hover {\n",
              "      background-color: #434B5C;\n",
              "      box-shadow: 0px 1px 3px 1px rgba(0, 0, 0, 0.15);\n",
              "      filter: drop-shadow(0px 1px 2px rgba(0, 0, 0, 0.3));\n",
              "      fill: #FFFFFF;\n",
              "    }\n",
              "  </style>\n",
              "\n",
              "      <script>\n",
              "        const buttonEl =\n",
              "          document.querySelector('#df-85f48c9e-fd42-49f3-ad31-147d39b784c0 button.colab-df-convert');\n",
              "        buttonEl.style.display =\n",
              "          google.colab.kernel.accessAllowed ? 'block' : 'none';\n",
              "\n",
              "        async function convertToInteractive(key) {\n",
              "          const element = document.querySelector('#df-85f48c9e-fd42-49f3-ad31-147d39b784c0');\n",
              "          const dataTable =\n",
              "            await google.colab.kernel.invokeFunction('convertToInteractive',\n",
              "                                                     [key], {});\n",
              "          if (!dataTable) return;\n",
              "\n",
              "          const docLinkHtml = 'Like what you see? Visit the ' +\n",
              "            '<a target=\"_blank\" href=https://colab.research.google.com/notebooks/data_table.ipynb>data table notebook</a>'\n",
              "            + ' to learn more about interactive tables.';\n",
              "          element.innerHTML = '';\n",
              "          dataTable['output_type'] = 'display_data';\n",
              "          await google.colab.output.renderOutput(dataTable, element);\n",
              "          const docLink = document.createElement('div');\n",
              "          docLink.innerHTML = docLinkHtml;\n",
              "          element.appendChild(docLink);\n",
              "        }\n",
              "      </script>\n",
              "    </div>\n",
              "  </div>\n",
              "  "
            ]
          },
          "metadata": {},
          "execution_count": 10
        }
      ]
    },
    {
      "cell_type": "markdown",
      "metadata": {
        "id": "pxWYyJE3Ppia"
      },
      "source": [
        "## Lasso-регресія "
      ]
    },
    {
      "cell_type": "markdown",
      "metadata": {
        "id": "1T2F966HPuZ0"
      },
      "source": [
        "**Навчіть Lasso-регресію з невеликим коефіцієнтом alpha=0,01 (слабка регуляризація). Нехай знову random_state=17.**\n"
      ]
    },
    {
      "cell_type": "code",
      "metadata": {
        "id": "Jgh7LyGePmbq",
        "outputId": "68c7ad3b-5fa7-4d63-da0a-eb1eb2c70ada",
        "colab": {
          "base_uri": "https://localhost:8080/"
        }
      },
      "source": [
        "lasso1 = Lasso(alpha=0.01, random_state=17)\n",
        "lasso1.fit(X_train_scaled, y_train)"
      ],
      "execution_count": 11,
      "outputs": [
        {
          "output_type": "execute_result",
          "data": {
            "text/plain": [
              "Lasso(alpha=0.01, random_state=17)"
            ]
          },
          "metadata": {},
          "execution_count": 11
        }
      ]
    },
    {
      "cell_type": "markdown",
      "metadata": {
        "id": "L83Ay-0AR2De"
      },
      "source": [
        "**Подивіться на коефіцієнти моделі і ранжуйте ознаки за впливом на якість вина. Яка ознака \"відпала\" першою, тобто найменш важлива для пояснення цільової змінної в моделі Lasso?**"
      ]
    },
    {
      "cell_type": "code",
      "metadata": {
        "id": "FlANTTYHSQQy",
        "outputId": "079fc0fd-3e06-425f-982a-eac096ed8738",
        "colab": {
          "base_uri": "https://localhost:8080/",
          "height": 363
        }
      },
      "source": [
        "lasso1_coef = pd.DataFrame(data=lasso1.coef_, index=X_train.columns, columns=['coef'])\n",
        "lasso1_coef.reindex(lasso1_coef.coef.abs().sort_values().index)"
      ],
      "execution_count": 12,
      "outputs": [
        {
          "output_type": "execute_result",
          "data": {
            "text/plain": [
              "                          coef\n",
              "citric acid           0.000000\n",
              "total sulfur dioxide  0.000000\n",
              "chlorides            -0.002310\n",
              "free sulfur dioxide   0.035678\n",
              "sulphates             0.061058\n",
              "fixed acidity         0.097925\n",
              "pH                    0.149955\n",
              "volatile acidity     -0.172850\n",
              "residual sugar        0.558427\n",
              "density              -0.764589"
            ],
            "text/html": [
              "\n",
              "  <div id=\"df-127dad0b-7696-43ae-9d8b-24c2c3f12f7c\">\n",
              "    <div class=\"colab-df-container\">\n",
              "      <div>\n",
              "<style scoped>\n",
              "    .dataframe tbody tr th:only-of-type {\n",
              "        vertical-align: middle;\n",
              "    }\n",
              "\n",
              "    .dataframe tbody tr th {\n",
              "        vertical-align: top;\n",
              "    }\n",
              "\n",
              "    .dataframe thead th {\n",
              "        text-align: right;\n",
              "    }\n",
              "</style>\n",
              "<table border=\"1\" class=\"dataframe\">\n",
              "  <thead>\n",
              "    <tr style=\"text-align: right;\">\n",
              "      <th></th>\n",
              "      <th>coef</th>\n",
              "    </tr>\n",
              "  </thead>\n",
              "  <tbody>\n",
              "    <tr>\n",
              "      <th>citric acid</th>\n",
              "      <td>0.000000</td>\n",
              "    </tr>\n",
              "    <tr>\n",
              "      <th>total sulfur dioxide</th>\n",
              "      <td>0.000000</td>\n",
              "    </tr>\n",
              "    <tr>\n",
              "      <th>chlorides</th>\n",
              "      <td>-0.002310</td>\n",
              "    </tr>\n",
              "    <tr>\n",
              "      <th>free sulfur dioxide</th>\n",
              "      <td>0.035678</td>\n",
              "    </tr>\n",
              "    <tr>\n",
              "      <th>sulphates</th>\n",
              "      <td>0.061058</td>\n",
              "    </tr>\n",
              "    <tr>\n",
              "      <th>fixed acidity</th>\n",
              "      <td>0.097925</td>\n",
              "    </tr>\n",
              "    <tr>\n",
              "      <th>pH</th>\n",
              "      <td>0.149955</td>\n",
              "    </tr>\n",
              "    <tr>\n",
              "      <th>volatile acidity</th>\n",
              "      <td>-0.172850</td>\n",
              "    </tr>\n",
              "    <tr>\n",
              "      <th>residual sugar</th>\n",
              "      <td>0.558427</td>\n",
              "    </tr>\n",
              "    <tr>\n",
              "      <th>density</th>\n",
              "      <td>-0.764589</td>\n",
              "    </tr>\n",
              "  </tbody>\n",
              "</table>\n",
              "</div>\n",
              "      <button class=\"colab-df-convert\" onclick=\"convertToInteractive('df-127dad0b-7696-43ae-9d8b-24c2c3f12f7c')\"\n",
              "              title=\"Convert this dataframe to an interactive table.\"\n",
              "              style=\"display:none;\">\n",
              "        \n",
              "  <svg xmlns=\"http://www.w3.org/2000/svg\" height=\"24px\"viewBox=\"0 0 24 24\"\n",
              "       width=\"24px\">\n",
              "    <path d=\"M0 0h24v24H0V0z\" fill=\"none\"/>\n",
              "    <path d=\"M18.56 5.44l.94 2.06.94-2.06 2.06-.94-2.06-.94-.94-2.06-.94 2.06-2.06.94zm-11 1L8.5 8.5l.94-2.06 2.06-.94-2.06-.94L8.5 2.5l-.94 2.06-2.06.94zm10 10l.94 2.06.94-2.06 2.06-.94-2.06-.94-.94-2.06-.94 2.06-2.06.94z\"/><path d=\"M17.41 7.96l-1.37-1.37c-.4-.4-.92-.59-1.43-.59-.52 0-1.04.2-1.43.59L10.3 9.45l-7.72 7.72c-.78.78-.78 2.05 0 2.83L4 21.41c.39.39.9.59 1.41.59.51 0 1.02-.2 1.41-.59l7.78-7.78 2.81-2.81c.8-.78.8-2.07 0-2.86zM5.41 20L4 18.59l7.72-7.72 1.47 1.35L5.41 20z\"/>\n",
              "  </svg>\n",
              "      </button>\n",
              "      \n",
              "  <style>\n",
              "    .colab-df-container {\n",
              "      display:flex;\n",
              "      flex-wrap:wrap;\n",
              "      gap: 12px;\n",
              "    }\n",
              "\n",
              "    .colab-df-convert {\n",
              "      background-color: #E8F0FE;\n",
              "      border: none;\n",
              "      border-radius: 50%;\n",
              "      cursor: pointer;\n",
              "      display: none;\n",
              "      fill: #1967D2;\n",
              "      height: 32px;\n",
              "      padding: 0 0 0 0;\n",
              "      width: 32px;\n",
              "    }\n",
              "\n",
              "    .colab-df-convert:hover {\n",
              "      background-color: #E2EBFA;\n",
              "      box-shadow: 0px 1px 2px rgba(60, 64, 67, 0.3), 0px 1px 3px 1px rgba(60, 64, 67, 0.15);\n",
              "      fill: #174EA6;\n",
              "    }\n",
              "\n",
              "    [theme=dark] .colab-df-convert {\n",
              "      background-color: #3B4455;\n",
              "      fill: #D2E3FC;\n",
              "    }\n",
              "\n",
              "    [theme=dark] .colab-df-convert:hover {\n",
              "      background-color: #434B5C;\n",
              "      box-shadow: 0px 1px 3px 1px rgba(0, 0, 0, 0.15);\n",
              "      filter: drop-shadow(0px 1px 2px rgba(0, 0, 0, 0.3));\n",
              "      fill: #FFFFFF;\n",
              "    }\n",
              "  </style>\n",
              "\n",
              "      <script>\n",
              "        const buttonEl =\n",
              "          document.querySelector('#df-127dad0b-7696-43ae-9d8b-24c2c3f12f7c button.colab-df-convert');\n",
              "        buttonEl.style.display =\n",
              "          google.colab.kernel.accessAllowed ? 'block' : 'none';\n",
              "\n",
              "        async function convertToInteractive(key) {\n",
              "          const element = document.querySelector('#df-127dad0b-7696-43ae-9d8b-24c2c3f12f7c');\n",
              "          const dataTable =\n",
              "            await google.colab.kernel.invokeFunction('convertToInteractive',\n",
              "                                                     [key], {});\n",
              "          if (!dataTable) return;\n",
              "\n",
              "          const docLinkHtml = 'Like what you see? Visit the ' +\n",
              "            '<a target=\"_blank\" href=https://colab.research.google.com/notebooks/data_table.ipynb>data table notebook</a>'\n",
              "            + ' to learn more about interactive tables.';\n",
              "          element.innerHTML = '';\n",
              "          dataTable['output_type'] = 'display_data';\n",
              "          await google.colab.output.renderOutput(dataTable, element);\n",
              "          const docLink = document.createElement('div');\n",
              "          docLink.innerHTML = docLinkHtml;\n",
              "          element.appendChild(docLink);\n",
              "        }\n",
              "      </script>\n",
              "    </div>\n",
              "  </div>\n",
              "  "
            ]
          },
          "metadata": {},
          "execution_count": 12
        }
      ]
    },
    {
      "cell_type": "markdown",
      "metadata": {
        "id": "h3dwFTdsSf9T"
      },
      "source": [
        "**Тепер визначте краще значення alpha в процесі 5-кратної крос-валідації. Використовуйте LassoCV і random_state = 17.**"
      ]
    },
    {
      "cell_type": "code",
      "metadata": {
        "id": "xOl_u0PPSdEB",
        "outputId": "a74f4d9e-e77f-4800-cf82-b3bfb8beab49",
        "colab": {
          "base_uri": "https://localhost:8080/"
        }
      },
      "source": [
        "alphas = np.logspace(-6, 2, 200)\n",
        "lasso_cv = LassoCV(alphas=alphas, cv=5, random_state=17)\n",
        "lasso_cv.fit(X_train, y_train)"
      ],
      "execution_count": 13,
      "outputs": [
        {
          "output_type": "execute_result",
          "data": {
            "text/plain": [
              "LassoCV(alphas=array([1.00000000e-06, 1.09698580e-06, 1.20337784e-06, 1.32008840e-06,\n",
              "       1.44811823e-06, 1.58856513e-06, 1.74263339e-06, 1.91164408e-06,\n",
              "       2.09704640e-06, 2.30043012e-06, 2.52353917e-06, 2.76828663e-06,\n",
              "       3.03677112e-06, 3.33129479e-06, 3.65438307e-06, 4.00880633e-06,\n",
              "       4.39760361e-06, 4.82410870e-06, 5.29197874e-06, 5.80522552e-06,\n",
              "       6.36824994e-06, 6.98587975e-0...\n",
              "       1.18953407e+01, 1.30490198e+01, 1.43145894e+01, 1.57029012e+01,\n",
              "       1.72258597e+01, 1.88965234e+01, 2.07292178e+01, 2.27396575e+01,\n",
              "       2.49450814e+01, 2.73644000e+01, 3.00183581e+01, 3.29297126e+01,\n",
              "       3.61234270e+01, 3.96268864e+01, 4.34701316e+01, 4.76861170e+01,\n",
              "       5.23109931e+01, 5.73844165e+01, 6.29498899e+01, 6.90551352e+01,\n",
              "       7.57525026e+01, 8.30994195e+01, 9.11588830e+01, 1.00000000e+02]),\n",
              "        cv=5, random_state=17)"
            ]
          },
          "metadata": {},
          "execution_count": 13
        }
      ]
    },
    {
      "cell_type": "code",
      "metadata": {
        "id": "dvQUsxV_TDq3",
        "outputId": "40c081b6-d1fb-4761-b61b-df6ae724fc38",
        "colab": {
          "base_uri": "https://localhost:8080/"
        }
      },
      "source": [
        "lasso_cv.alpha_"
      ],
      "execution_count": 14,
      "outputs": [
        {
          "output_type": "execute_result",
          "data": {
            "text/plain": [
              "1.3200884008314168e-06"
            ]
          },
          "metadata": {},
          "execution_count": 14
        }
      ]
    },
    {
      "cell_type": "markdown",
      "metadata": {
        "id": "Og97BgrxTHkl"
      },
      "source": [
        "Виведіть коефіцієнти \"кращого\" Lasso в порядку зменшення впливу на якість вина.\n",
        "> **Питання 3: Яка ознака \"занулилася першою\" в налаштованій моделі LASSO?**"
      ]
    },
    {
      "cell_type": "code",
      "metadata": {
        "id": "t5yAXuqaTkV1",
        "outputId": "9b277866-9fc0-45a4-9fc8-4e411b422d93",
        "colab": {
          "base_uri": "https://localhost:8080/",
          "height": 363
        }
      },
      "source": [
        "lasso_cv_coef = pd.DataFrame(data=lasso_cv.coef_, index=X_train.columns, columns=['coef'])\n",
        "lasso_cv_coef.reindex(lasso_cv_coef.coef.abs().sort_values(ascending=False).index)"
      ],
      "execution_count": 15,
      "outputs": [
        {
          "output_type": "execute_result",
          "data": {
            "text/plain": [
              "                            coef\n",
              "density              -303.693127\n",
              "volatile acidity       -1.827054\n",
              "pH                      1.247894\n",
              "sulphates               0.658134\n",
              "chlorides               0.398770\n",
              "fixed acidity           0.169219\n",
              "residual sugar          0.133864\n",
              "citric acid             0.028389\n",
              "free sulfur dioxide     0.002083\n",
              "total sulfur dioxide    0.000497"
            ],
            "text/html": [
              "\n",
              "  <div id=\"df-31deaceb-8df5-47fa-8d5f-2442260eefb7\">\n",
              "    <div class=\"colab-df-container\">\n",
              "      <div>\n",
              "<style scoped>\n",
              "    .dataframe tbody tr th:only-of-type {\n",
              "        vertical-align: middle;\n",
              "    }\n",
              "\n",
              "    .dataframe tbody tr th {\n",
              "        vertical-align: top;\n",
              "    }\n",
              "\n",
              "    .dataframe thead th {\n",
              "        text-align: right;\n",
              "    }\n",
              "</style>\n",
              "<table border=\"1\" class=\"dataframe\">\n",
              "  <thead>\n",
              "    <tr style=\"text-align: right;\">\n",
              "      <th></th>\n",
              "      <th>coef</th>\n",
              "    </tr>\n",
              "  </thead>\n",
              "  <tbody>\n",
              "    <tr>\n",
              "      <th>density</th>\n",
              "      <td>-303.693127</td>\n",
              "    </tr>\n",
              "    <tr>\n",
              "      <th>volatile acidity</th>\n",
              "      <td>-1.827054</td>\n",
              "    </tr>\n",
              "    <tr>\n",
              "      <th>pH</th>\n",
              "      <td>1.247894</td>\n",
              "    </tr>\n",
              "    <tr>\n",
              "      <th>sulphates</th>\n",
              "      <td>0.658134</td>\n",
              "    </tr>\n",
              "    <tr>\n",
              "      <th>chlorides</th>\n",
              "      <td>0.398770</td>\n",
              "    </tr>\n",
              "    <tr>\n",
              "      <th>fixed acidity</th>\n",
              "      <td>0.169219</td>\n",
              "    </tr>\n",
              "    <tr>\n",
              "      <th>residual sugar</th>\n",
              "      <td>0.133864</td>\n",
              "    </tr>\n",
              "    <tr>\n",
              "      <th>citric acid</th>\n",
              "      <td>0.028389</td>\n",
              "    </tr>\n",
              "    <tr>\n",
              "      <th>free sulfur dioxide</th>\n",
              "      <td>0.002083</td>\n",
              "    </tr>\n",
              "    <tr>\n",
              "      <th>total sulfur dioxide</th>\n",
              "      <td>0.000497</td>\n",
              "    </tr>\n",
              "  </tbody>\n",
              "</table>\n",
              "</div>\n",
              "      <button class=\"colab-df-convert\" onclick=\"convertToInteractive('df-31deaceb-8df5-47fa-8d5f-2442260eefb7')\"\n",
              "              title=\"Convert this dataframe to an interactive table.\"\n",
              "              style=\"display:none;\">\n",
              "        \n",
              "  <svg xmlns=\"http://www.w3.org/2000/svg\" height=\"24px\"viewBox=\"0 0 24 24\"\n",
              "       width=\"24px\">\n",
              "    <path d=\"M0 0h24v24H0V0z\" fill=\"none\"/>\n",
              "    <path d=\"M18.56 5.44l.94 2.06.94-2.06 2.06-.94-2.06-.94-.94-2.06-.94 2.06-2.06.94zm-11 1L8.5 8.5l.94-2.06 2.06-.94-2.06-.94L8.5 2.5l-.94 2.06-2.06.94zm10 10l.94 2.06.94-2.06 2.06-.94-2.06-.94-.94-2.06-.94 2.06-2.06.94z\"/><path d=\"M17.41 7.96l-1.37-1.37c-.4-.4-.92-.59-1.43-.59-.52 0-1.04.2-1.43.59L10.3 9.45l-7.72 7.72c-.78.78-.78 2.05 0 2.83L4 21.41c.39.39.9.59 1.41.59.51 0 1.02-.2 1.41-.59l7.78-7.78 2.81-2.81c.8-.78.8-2.07 0-2.86zM5.41 20L4 18.59l7.72-7.72 1.47 1.35L5.41 20z\"/>\n",
              "  </svg>\n",
              "      </button>\n",
              "      \n",
              "  <style>\n",
              "    .colab-df-container {\n",
              "      display:flex;\n",
              "      flex-wrap:wrap;\n",
              "      gap: 12px;\n",
              "    }\n",
              "\n",
              "    .colab-df-convert {\n",
              "      background-color: #E8F0FE;\n",
              "      border: none;\n",
              "      border-radius: 50%;\n",
              "      cursor: pointer;\n",
              "      display: none;\n",
              "      fill: #1967D2;\n",
              "      height: 32px;\n",
              "      padding: 0 0 0 0;\n",
              "      width: 32px;\n",
              "    }\n",
              "\n",
              "    .colab-df-convert:hover {\n",
              "      background-color: #E2EBFA;\n",
              "      box-shadow: 0px 1px 2px rgba(60, 64, 67, 0.3), 0px 1px 3px 1px rgba(60, 64, 67, 0.15);\n",
              "      fill: #174EA6;\n",
              "    }\n",
              "\n",
              "    [theme=dark] .colab-df-convert {\n",
              "      background-color: #3B4455;\n",
              "      fill: #D2E3FC;\n",
              "    }\n",
              "\n",
              "    [theme=dark] .colab-df-convert:hover {\n",
              "      background-color: #434B5C;\n",
              "      box-shadow: 0px 1px 3px 1px rgba(0, 0, 0, 0.15);\n",
              "      filter: drop-shadow(0px 1px 2px rgba(0, 0, 0, 0.3));\n",
              "      fill: #FFFFFF;\n",
              "    }\n",
              "  </style>\n",
              "\n",
              "      <script>\n",
              "        const buttonEl =\n",
              "          document.querySelector('#df-31deaceb-8df5-47fa-8d5f-2442260eefb7 button.colab-df-convert');\n",
              "        buttonEl.style.display =\n",
              "          google.colab.kernel.accessAllowed ? 'block' : 'none';\n",
              "\n",
              "        async function convertToInteractive(key) {\n",
              "          const element = document.querySelector('#df-31deaceb-8df5-47fa-8d5f-2442260eefb7');\n",
              "          const dataTable =\n",
              "            await google.colab.kernel.invokeFunction('convertToInteractive',\n",
              "                                                     [key], {});\n",
              "          if (!dataTable) return;\n",
              "\n",
              "          const docLinkHtml = 'Like what you see? Visit the ' +\n",
              "            '<a target=\"_blank\" href=https://colab.research.google.com/notebooks/data_table.ipynb>data table notebook</a>'\n",
              "            + ' to learn more about interactive tables.';\n",
              "          element.innerHTML = '';\n",
              "          dataTable['output_type'] = 'display_data';\n",
              "          await google.colab.output.renderOutput(dataTable, element);\n",
              "          const docLink = document.createElement('div');\n",
              "          docLink.innerHTML = docLinkHtml;\n",
              "          element.appendChild(docLink);\n",
              "        }\n",
              "      </script>\n",
              "    </div>\n",
              "  </div>\n",
              "  "
            ]
          },
          "metadata": {},
          "execution_count": 15
        }
      ]
    },
    {
      "cell_type": "markdown",
      "metadata": {
        "id": "r8ldGdAVT0XD"
      },
      "source": [
        "**Оцініть середньоквадратичну помилку моделі на навчальній і тестовій вибірках.**"
      ]
    },
    {
      "cell_type": "markdown",
      "metadata": {
        "id": "Vqx3FuFxT-cS"
      },
      "source": [
        "> **Питання 4 : Які середньоквадратичні помилки налаштованої LASSO-регресії на навчальній і відкладеній вибірках?**"
      ]
    },
    {
      "cell_type": "code",
      "metadata": {
        "id": "uNzRRRcEUO2N",
        "outputId": "4fce9682-7f83-469d-aa97-2609c30afc0b",
        "colab": {
          "base_uri": "https://localhost:8080/"
        }
      },
      "source": [
        "print(\"Mean squared error (train): %.3f\" % mean_squared_error(lasso_cv.predict(X_train), y_train))\n",
        "print(\"Mean squared error (test): %.3f\" % mean_squared_error(lasso_cv.predict(X_holdout), y_holdout))\n"
      ],
      "execution_count": 16,
      "outputs": [
        {
          "output_type": "stream",
          "name": "stdout",
          "text": [
            "Mean squared error (train): 0.560\n",
            "Mean squared error (test): 0.601\n"
          ]
        }
      ]
    },
    {
      "cell_type": "markdown",
      "metadata": {
        "id": "C9kL4mAtUijL"
      },
      "source": [
        "## Випадковий ліс"
      ]
    },
    {
      "cell_type": "markdown",
      "metadata": {
        "id": "zNYDtkGdUmLZ"
      },
      "source": [
        "**Навчіть випадковий ліс з параметрами \"з коробки\", фіксуючи тільки random_state=17.**"
      ]
    },
    {
      "cell_type": "code",
      "metadata": {
        "id": "WqDkWjgCUyyB",
        "outputId": "f8b26f9a-7df2-4e74-f2a8-bbac90d0bb97",
        "colab": {
          "base_uri": "https://localhost:8080/"
        }
      },
      "source": [
        "forest = RandomForestRegressor(random_state=17)\n",
        "forest.fit(X_train, y_train)"
      ],
      "execution_count": 17,
      "outputs": [
        {
          "output_type": "execute_result",
          "data": {
            "text/plain": [
              "RandomForestRegressor(random_state=17)"
            ]
          },
          "metadata": {},
          "execution_count": 17
        }
      ]
    },
    {
      "cell_type": "markdown",
      "metadata": {
        "id": "BG6TgbBhU94i"
      },
      "source": [
        "> **Питання 5 : Які середньоквадратичні помилки випадкового лысу на навчальній вибірці, на крос-валідації (cross_val_score з scoring='neg_mean_squared_error' і іншими параметрами за замовчуванням) і відкладеній вибірках?**"
      ]
    },
    {
      "cell_type": "code",
      "metadata": {
        "id": "FmK70KIbVc4-",
        "outputId": "9d824a4a-3f5d-487e-ae37-dbb152cb674c",
        "colab": {
          "base_uri": "https://localhost:8080/"
        }
      },
      "source": [
        "print(\"Mean squared error (train): %.3f\" % mean_squared_error(forest.predict(X_train), y_train))\n",
        "print(\"Mean squared error (test): %.3f\" % mean_squared_error(forest.predict(X_holdout), y_holdout))\n",
        "print(\"Mean squared error (cv): \", cross_val_score(estimator=forest, X=X_train, y=y_train, scoring='neg_mean_squared_error'))\n"
      ],
      "execution_count": 24,
      "outputs": [
        {
          "output_type": "stream",
          "name": "stdout",
          "text": [
            "Mean squared error (train): 0.054\n",
            "Mean squared error (test): 0.381\n",
            "Mean squared error (cv):  [-0.45939708 -0.41861662 -0.39786108 -0.3930054  -0.40606161]\n"
          ]
        }
      ]
    },
    {
      "cell_type": "markdown",
      "metadata": {
        "id": "sB5A2KLSVn0U"
      },
      "source": [
        "**Налаштуйте параметри min_samples_leaf і max_depth за допомогою GridSearchCV і знову перевірте якість моделі на крос-валідації і на відкладеній вибірках.**"
      ]
    },
    {
      "cell_type": "code",
      "metadata": {
        "id": "iLtV0hxIW5D9",
        "outputId": "5172b465-12ea-4716-900d-9b89016dc3be",
        "colab": {
          "base_uri": "https://localhost:8080/"
        }
      },
      "source": [
        "forest_params = {'max_depth': list(range(10, 25)),\n",
        "                 'min_samples_leaf': list(range(1, 8)),\n",
        "                 'max_features': list(range(6, 12))}\n",
        "locally_best_forest = GridSearchCV(forest, forest_params)\n",
        "locally_best_forest.fit(X_train, y_train)\n"
      ],
      "execution_count": 25,
      "outputs": [
        {
          "output_type": "stream",
          "name": "stderr",
          "text": [
            "/usr/local/lib/python3.8/dist-packages/sklearn/model_selection/_validation.py:372: FitFailedWarning: \n",
            "525 fits failed out of a total of 3150.\n",
            "The score on these train-test partitions for these parameters will be set to nan.\n",
            "If these failures are not expected, you can try to debug them by setting error_score='raise'.\n",
            "\n",
            "Below are more details about the failures:\n",
            "--------------------------------------------------------------------------------\n",
            "525 fits failed with the following error:\n",
            "Traceback (most recent call last):\n",
            "  File \"/usr/local/lib/python3.8/dist-packages/sklearn/model_selection/_validation.py\", line 680, in _fit_and_score\n",
            "    estimator.fit(X_train, y_train, **fit_params)\n",
            "  File \"/usr/local/lib/python3.8/dist-packages/sklearn/ensemble/_forest.py\", line 450, in fit\n",
            "    trees = Parallel(\n",
            "  File \"/usr/local/lib/python3.8/dist-packages/joblib/parallel.py\", line 1085, in __call__\n",
            "    if self.dispatch_one_batch(iterator):\n",
            "  File \"/usr/local/lib/python3.8/dist-packages/joblib/parallel.py\", line 901, in dispatch_one_batch\n",
            "    self._dispatch(tasks)\n",
            "  File \"/usr/local/lib/python3.8/dist-packages/joblib/parallel.py\", line 819, in _dispatch\n",
            "    job = self._backend.apply_async(batch, callback=cb)\n",
            "  File \"/usr/local/lib/python3.8/dist-packages/joblib/_parallel_backends.py\", line 208, in apply_async\n",
            "    result = ImmediateResult(func)\n",
            "  File \"/usr/local/lib/python3.8/dist-packages/joblib/_parallel_backends.py\", line 597, in __init__\n",
            "    self.results = batch()\n",
            "  File \"/usr/local/lib/python3.8/dist-packages/joblib/parallel.py\", line 288, in __call__\n",
            "    return [func(*args, **kwargs)\n",
            "  File \"/usr/local/lib/python3.8/dist-packages/joblib/parallel.py\", line 288, in <listcomp>\n",
            "    return [func(*args, **kwargs)\n",
            "  File \"/usr/local/lib/python3.8/dist-packages/sklearn/utils/fixes.py\", line 216, in __call__\n",
            "    return self.function(*args, **kwargs)\n",
            "  File \"/usr/local/lib/python3.8/dist-packages/sklearn/ensemble/_forest.py\", line 185, in _parallel_build_trees\n",
            "    tree.fit(X, y, sample_weight=curr_sample_weight, check_input=False)\n",
            "  File \"/usr/local/lib/python3.8/dist-packages/sklearn/tree/_classes.py\", line 1315, in fit\n",
            "    super().fit(\n",
            "  File \"/usr/local/lib/python3.8/dist-packages/sklearn/tree/_classes.py\", line 308, in fit\n",
            "    raise ValueError(\"max_features must be in (0, n_features]\")\n",
            "ValueError: max_features must be in (0, n_features]\n",
            "\n",
            "  warnings.warn(some_fits_failed_message, FitFailedWarning)\n",
            "/usr/local/lib/python3.8/dist-packages/sklearn/model_selection/_search.py:969: UserWarning: One or more of the test scores are non-finite: [0.42210498 0.42110937 0.42018116 0.41299477 0.41009507 0.40672934\n",
            " 0.40110443 0.42308738 0.42347076 0.42200946 0.41521594 0.41340924\n",
            " 0.40635496 0.40152173 0.4248457  0.42566204 0.41971658 0.41598221\n",
            " 0.41157685 0.4084807  0.40367971 0.42071046 0.42326356 0.42155959\n",
            " 0.41650925 0.41029942 0.4081596  0.40437651 0.4220379  0.42289612\n",
            " 0.42146977 0.41629876 0.41122636 0.40768836 0.40299983        nan\n",
            "        nan        nan        nan        nan        nan        nan\n",
            " 0.43771448 0.43443587 0.43194104 0.42539147 0.41963056 0.41309426\n",
            " 0.40774226 0.43831391 0.43358872 0.43258859 0.42661344 0.42142469\n",
            " 0.41398585 0.4095615  0.43792233 0.43841451 0.43270395 0.42233314\n",
            " 0.42119496 0.41471886 0.41035433 0.43612959 0.43695275 0.4340366\n",
            " 0.42595607 0.41882661 0.41505454 0.40859254 0.43554275 0.43590909\n",
            " 0.43132766 0.42508498 0.41948299 0.41549738 0.40903562        nan\n",
            "        nan        nan        nan        nan        nan        nan\n",
            " 0.44822155 0.44383357 0.43955151 0.43003414 0.42668749 0.42035191\n",
            " 0.41182906 0.45092918 0.4424522  0.43979918 0.43204141 0.42680336\n",
            " 0.42061947 0.41271382 0.45018449 0.44852272 0.44012181 0.43237686\n",
            " 0.42500094 0.41949693 0.41465378 0.44636238 0.44610288 0.43991092\n",
            " 0.43192078 0.42524195 0.42131003 0.41356888 0.44634624 0.44477369\n",
            " 0.4387018  0.43180004 0.42519604 0.41970883 0.41315952        nan\n",
            "        nan        nan        nan        nan        nan        nan\n",
            " 0.45572371 0.45112245 0.44690424 0.43619858 0.43028176 0.42319377\n",
            " 0.41458435 0.4595187  0.45161273 0.44505286 0.43869657 0.43033109\n",
            " 0.42337524 0.41694221 0.45640369 0.45442583 0.44850844 0.43763398\n",
            " 0.43070494 0.42179949 0.41610984 0.45603025 0.45236004 0.44455836\n",
            " 0.43738146 0.42956066 0.42367028 0.41733112 0.45322491 0.45194281\n",
            " 0.44406703 0.4364578  0.42909346 0.42290961 0.41531736        nan\n",
            "        nan        nan        nan        nan        nan        nan\n",
            " 0.46740593 0.45590209 0.44726416 0.44102797 0.43302278 0.42418876\n",
            " 0.41457351 0.46199429 0.45673683 0.44920747 0.4390419  0.43473878\n",
            " 0.42417932 0.4163302  0.46289582 0.45935035 0.45245919 0.4415811\n",
            " 0.43276186 0.42535062 0.41703677 0.46080161 0.45944636 0.44988829\n",
            " 0.43945374 0.43120421 0.42468318 0.41855189 0.45990398 0.45611435\n",
            " 0.44787699 0.44024567 0.43151796 0.42465842 0.41660993        nan\n",
            "        nan        nan        nan        nan        nan        nan\n",
            " 0.46831042 0.4590752  0.45233746 0.4405076  0.43372335 0.42540195\n",
            " 0.41640429 0.46851359 0.46334822 0.44882728 0.44089877 0.43486414\n",
            " 0.42711791 0.41701431 0.46729026 0.46424901 0.45559583 0.44409494\n",
            " 0.43504974 0.42613361 0.41887945 0.46835828 0.46084322 0.45500222\n",
            " 0.43998197 0.43158049 0.42522818 0.41862788 0.46451208 0.4595317\n",
            " 0.45080526 0.44219456 0.43308362 0.42557074 0.41743332        nan\n",
            "        nan        nan        nan        nan        nan        nan\n",
            " 0.47345059 0.46232279 0.45669009 0.44528241 0.43396774 0.42578021\n",
            " 0.41779589 0.47233724 0.46465046 0.45303381 0.44445471 0.43579573\n",
            " 0.42653944 0.41766142 0.46995718 0.46539896 0.45496598 0.44301848\n",
            " 0.43682813 0.42718242 0.41904917 0.47161353 0.46212669 0.45604593\n",
            " 0.44322161 0.43320176 0.42624034 0.41914042 0.46659774 0.46312121\n",
            " 0.45258221 0.44337983 0.43359915 0.42594221 0.41759559        nan\n",
            "        nan        nan        nan        nan        nan        nan\n",
            " 0.47719333 0.46805919 0.45475754 0.4459656  0.43461067 0.42630509\n",
            " 0.4179966  0.47671192 0.4664737  0.45492392 0.44501164 0.43621681\n",
            " 0.42753017 0.41838957 0.47182404 0.4707975  0.45732448 0.44294017\n",
            " 0.43675175 0.42754014 0.41886306 0.47227679 0.4644676  0.45617416\n",
            " 0.44325774 0.43323666 0.42686141 0.4194735  0.46952489 0.46500205\n",
            " 0.4540022  0.44380266 0.43432711 0.42639778 0.41782568        nan\n",
            "        nan        nan        nan        nan        nan        nan\n",
            " 0.47717772 0.46759001 0.45811364 0.44632179 0.4349146  0.42657799\n",
            " 0.41853799 0.47647422 0.46488639 0.45705566 0.44482154 0.43569913\n",
            " 0.42735972 0.41845051 0.47319623 0.4705836  0.45844183 0.44435066\n",
            " 0.43646468 0.42790724 0.41895694 0.4742315  0.46545558 0.45742645\n",
            " 0.44435814 0.43314662 0.42640977 0.42005963 0.47035396 0.46536461\n",
            " 0.45404834 0.44413141 0.43448572 0.42647333 0.4178969         nan\n",
            "        nan        nan        nan        nan        nan        nan\n",
            " 0.47981133 0.46696078 0.45841191 0.44515779 0.43462902 0.4269515\n",
            " 0.41841569 0.47836407 0.46557129 0.45562126 0.44513021 0.43657809\n",
            " 0.42784112 0.41869749 0.47645636 0.47125373 0.45828366 0.44400588\n",
            " 0.43698367 0.42801532 0.41926398 0.47519236 0.46672135 0.45834086\n",
            " 0.44474455 0.4332827  0.42680151 0.42014505 0.47063834 0.46587649\n",
            " 0.45471738 0.44444912 0.43471049 0.42651683 0.41791761        nan\n",
            "        nan        nan        nan        nan        nan        nan\n",
            " 0.47979035 0.46672319 0.45908779 0.44424175 0.43477827 0.42692595\n",
            " 0.41838387 0.47840444 0.46605478 0.45726669 0.44542486 0.43641189\n",
            " 0.42779301 0.41860723 0.47721684 0.47120159 0.45783183 0.44400316\n",
            " 0.43749007 0.42810775 0.41912337 0.47499503 0.46805882 0.45877859\n",
            " 0.44457057 0.43301587 0.42668853 0.42018901 0.47318734 0.46672738\n",
            " 0.45510151 0.44465557 0.43475525 0.4265647  0.41790276        nan\n",
            "        nan        nan        nan        nan        nan        nan\n",
            " 0.48244649 0.46812686 0.45917689 0.44488186 0.43502371 0.42703756\n",
            " 0.41840386 0.4791104  0.46507831 0.45732148 0.44523447 0.43612068\n",
            " 0.42769624 0.41853665 0.47847531 0.47139207 0.45808933 0.4445145\n",
            " 0.43728796 0.42820541 0.41918586 0.47686117 0.46804771 0.45906889\n",
            " 0.44452865 0.43308162 0.42658817 0.42017016 0.47251022 0.46690224\n",
            " 0.45499962 0.44484854 0.43474585 0.42661016 0.41792074        nan\n",
            "        nan        nan        nan        nan        nan        nan\n",
            " 0.48348392 0.46794027 0.45844883 0.44469476 0.43499252 0.42700272\n",
            " 0.41838942 0.48031801 0.46678052 0.45722553 0.44523428 0.4362682\n",
            " 0.42770087 0.41854923 0.47754609 0.47122033 0.45812135 0.44429617\n",
            " 0.4372571  0.42813056 0.41921545 0.47736865 0.46788668 0.4591905\n",
            " 0.44463755 0.43302957 0.42663615 0.42017391 0.47266037 0.46693014\n",
            " 0.45506166 0.44478824 0.43475107 0.42661482 0.41792817        nan\n",
            "        nan        nan        nan        nan        nan        nan\n",
            " 0.48237119 0.46840285 0.45871474 0.44500138 0.4349731  0.42706876\n",
            " 0.41828706 0.48092685 0.4660226  0.45754271 0.44524875 0.43622401\n",
            " 0.42772685 0.41853473 0.47695254 0.471148   0.45827873 0.44434678\n",
            " 0.43732079 0.42812017 0.41922336 0.47678356 0.46784832 0.45946785\n",
            " 0.44457603 0.43302943 0.42663292 0.42018096 0.47192417 0.4670898\n",
            " 0.45505266 0.44478662 0.43477804 0.42661234 0.41792805        nan\n",
            "        nan        nan        nan        nan        nan        nan\n",
            " 0.48146997 0.46805725 0.45850452 0.44498647 0.43489584 0.42707232\n",
            " 0.4182897  0.47988066 0.46649026 0.45733871 0.44530209 0.43628552\n",
            " 0.42770592 0.41853473 0.47668491 0.47112381 0.4584294  0.44432247\n",
            " 0.43732531 0.42815867 0.41922336 0.47702566 0.46781638 0.45929425\n",
            " 0.44454705 0.43303093 0.42664154 0.42018096 0.47212801 0.46711573\n",
            " 0.45505809 0.44476405 0.43476579 0.42661234 0.41792805        nan\n",
            "        nan        nan        nan        nan        nan        nan]\n",
            "  warnings.warn(\n"
          ]
        },
        {
          "output_type": "execute_result",
          "data": {
            "text/plain": [
              "GridSearchCV(estimator=RandomForestRegressor(random_state=17),\n",
              "             param_grid={'max_depth': [10, 11, 12, 13, 14, 15, 16, 17, 18, 19,\n",
              "                                       20, 21, 22, 23, 24],\n",
              "                         'max_features': [6, 7, 8, 9, 10, 11],\n",
              "                         'min_samples_leaf': [1, 2, 3, 4, 5, 6, 7]})"
            ]
          },
          "metadata": {},
          "execution_count": 25
        }
      ]
    },
    {
      "cell_type": "code",
      "metadata": {
        "id": "_VhZKKgOYAUA",
        "outputId": "dc069ff0-6fa4-4a4d-da93-e674ce493d2c",
        "colab": {
          "base_uri": "https://localhost:8080/"
        }
      },
      "source": [
        "locally_best_forest.best_params_, locally_best_forest.best_score_"
      ],
      "execution_count": 27,
      "outputs": [
        {
          "output_type": "execute_result",
          "data": {
            "text/plain": [
              "({'max_depth': 22, 'max_features': 6, 'min_samples_leaf': 1},\n",
              " 0.48348392193623146)"
            ]
          },
          "metadata": {},
          "execution_count": 27
        }
      ]
    },
    {
      "cell_type": "markdown",
      "metadata": {
        "id": "-hJLmGV_kAmi"
      },
      "source": [
        "**Нажал результати GridSearchCV в повному не відтворювані (можуть відрізнятися на різних платформах навіть при фіксованому random_state). Тому навчіть ліс з параметрами max_depth=19, max_features=7, i min_samples_leaf=1 (краще в моэму випадку).**\n",
        "> **Питання 6 : Які середньоквадратичні помилки налаштованого випадкового лісу на навчальній вибірці, на крос-валідації (cross_val_score з scoring='neg_mean_squared_error') і на відкладеній вибірках?**\n"
      ]
    },
    {
      "cell_type": "code",
      "source": [
        "forest = RandomForestRegressor(max_depth=19, max_features=7, min_samples_leaf=1, random_state=17)\n",
        "forest.fit(X_train, y_train)"
      ],
      "metadata": {
        "id": "KtwAaWVBwzMD",
        "outputId": "9e577930-1cf7-4187-a91d-3483a99240aa",
        "colab": {
          "base_uri": "https://localhost:8080/"
        }
      },
      "execution_count": 28,
      "outputs": [
        {
          "output_type": "execute_result",
          "data": {
            "text/plain": [
              "RandomForestRegressor(max_depth=19, max_features=7, random_state=17)"
            ]
          },
          "metadata": {},
          "execution_count": 28
        }
      ]
    },
    {
      "cell_type": "code",
      "metadata": {
        "id": "2sh4try2lNue",
        "outputId": "14607a22-1bb2-465f-a122-70a861064642",
        "colab": {
          "base_uri": "https://localhost:8080/"
        }
      },
      "source": [
        "print(\"Mean squared error (cv): %.3f\" % mean_squared_error(forest.predict(X_train), y_train))\n",
        "print(\"Mean squared error (test): %.3f\" % mean_squared_error(forest.predict(X_holdout), y_holdout))\n",
        "print(\"Mean squared error (cv): \", cross_val_score(estimator=forest, X=X_train, y=y_train, scoring='neg_mean_squared_error'))"
      ],
      "execution_count": 29,
      "outputs": [
        {
          "output_type": "stream",
          "name": "stdout",
          "text": [
            "Mean squared error (cv): 0.058\n",
            "Mean squared error (test): 0.382\n",
            "Mean squared error (cv):  [-0.4548974  -0.40506896 -0.40107211 -0.39072969 -0.39768754]\n"
          ]
        }
      ]
    },
    {
      "cell_type": "markdown",
      "metadata": {
        "id": "4ssFaBCQlULN"
      },
      "source": [
        "**Оцініть важливість ознак за допомогою випадкового лісу.**\n",
        ">**Питання 7 : Яка ознака виявилася найінформативнішою в налаштованій моделі випадкового лісу?**"
      ]
    },
    {
      "cell_type": "code",
      "metadata": {
        "id": "dZYaVtjglrxn",
        "outputId": "3879d8a1-1978-4df2-eb01-a5ca37288b67",
        "colab": {
          "base_uri": "https://localhost:8080/",
          "height": 363
        }
      },
      "source": [
        "rf_importance = pd.DataFrame(data=lasso_cv.coef_, index=X_train.columns, columns=['coef'])\n",
        "rf_importance.reindex(rf_importance.coef.abs().sort_values(ascending=False).index)"
      ],
      "execution_count": 30,
      "outputs": [
        {
          "output_type": "execute_result",
          "data": {
            "text/plain": [
              "                            coef\n",
              "density              -303.693127\n",
              "volatile acidity       -1.827054\n",
              "pH                      1.247894\n",
              "sulphates               0.658134\n",
              "chlorides               0.398770\n",
              "fixed acidity           0.169219\n",
              "residual sugar          0.133864\n",
              "citric acid             0.028389\n",
              "free sulfur dioxide     0.002083\n",
              "total sulfur dioxide    0.000497"
            ],
            "text/html": [
              "\n",
              "  <div id=\"df-c2aa0aa9-f5fa-4759-9035-2f0dd10757ea\">\n",
              "    <div class=\"colab-df-container\">\n",
              "      <div>\n",
              "<style scoped>\n",
              "    .dataframe tbody tr th:only-of-type {\n",
              "        vertical-align: middle;\n",
              "    }\n",
              "\n",
              "    .dataframe tbody tr th {\n",
              "        vertical-align: top;\n",
              "    }\n",
              "\n",
              "    .dataframe thead th {\n",
              "        text-align: right;\n",
              "    }\n",
              "</style>\n",
              "<table border=\"1\" class=\"dataframe\">\n",
              "  <thead>\n",
              "    <tr style=\"text-align: right;\">\n",
              "      <th></th>\n",
              "      <th>coef</th>\n",
              "    </tr>\n",
              "  </thead>\n",
              "  <tbody>\n",
              "    <tr>\n",
              "      <th>density</th>\n",
              "      <td>-303.693127</td>\n",
              "    </tr>\n",
              "    <tr>\n",
              "      <th>volatile acidity</th>\n",
              "      <td>-1.827054</td>\n",
              "    </tr>\n",
              "    <tr>\n",
              "      <th>pH</th>\n",
              "      <td>1.247894</td>\n",
              "    </tr>\n",
              "    <tr>\n",
              "      <th>sulphates</th>\n",
              "      <td>0.658134</td>\n",
              "    </tr>\n",
              "    <tr>\n",
              "      <th>chlorides</th>\n",
              "      <td>0.398770</td>\n",
              "    </tr>\n",
              "    <tr>\n",
              "      <th>fixed acidity</th>\n",
              "      <td>0.169219</td>\n",
              "    </tr>\n",
              "    <tr>\n",
              "      <th>residual sugar</th>\n",
              "      <td>0.133864</td>\n",
              "    </tr>\n",
              "    <tr>\n",
              "      <th>citric acid</th>\n",
              "      <td>0.028389</td>\n",
              "    </tr>\n",
              "    <tr>\n",
              "      <th>free sulfur dioxide</th>\n",
              "      <td>0.002083</td>\n",
              "    </tr>\n",
              "    <tr>\n",
              "      <th>total sulfur dioxide</th>\n",
              "      <td>0.000497</td>\n",
              "    </tr>\n",
              "  </tbody>\n",
              "</table>\n",
              "</div>\n",
              "      <button class=\"colab-df-convert\" onclick=\"convertToInteractive('df-c2aa0aa9-f5fa-4759-9035-2f0dd10757ea')\"\n",
              "              title=\"Convert this dataframe to an interactive table.\"\n",
              "              style=\"display:none;\">\n",
              "        \n",
              "  <svg xmlns=\"http://www.w3.org/2000/svg\" height=\"24px\"viewBox=\"0 0 24 24\"\n",
              "       width=\"24px\">\n",
              "    <path d=\"M0 0h24v24H0V0z\" fill=\"none\"/>\n",
              "    <path d=\"M18.56 5.44l.94 2.06.94-2.06 2.06-.94-2.06-.94-.94-2.06-.94 2.06-2.06.94zm-11 1L8.5 8.5l.94-2.06 2.06-.94-2.06-.94L8.5 2.5l-.94 2.06-2.06.94zm10 10l.94 2.06.94-2.06 2.06-.94-2.06-.94-.94-2.06-.94 2.06-2.06.94z\"/><path d=\"M17.41 7.96l-1.37-1.37c-.4-.4-.92-.59-1.43-.59-.52 0-1.04.2-1.43.59L10.3 9.45l-7.72 7.72c-.78.78-.78 2.05 0 2.83L4 21.41c.39.39.9.59 1.41.59.51 0 1.02-.2 1.41-.59l7.78-7.78 2.81-2.81c.8-.78.8-2.07 0-2.86zM5.41 20L4 18.59l7.72-7.72 1.47 1.35L5.41 20z\"/>\n",
              "  </svg>\n",
              "      </button>\n",
              "      \n",
              "  <style>\n",
              "    .colab-df-container {\n",
              "      display:flex;\n",
              "      flex-wrap:wrap;\n",
              "      gap: 12px;\n",
              "    }\n",
              "\n",
              "    .colab-df-convert {\n",
              "      background-color: #E8F0FE;\n",
              "      border: none;\n",
              "      border-radius: 50%;\n",
              "      cursor: pointer;\n",
              "      display: none;\n",
              "      fill: #1967D2;\n",
              "      height: 32px;\n",
              "      padding: 0 0 0 0;\n",
              "      width: 32px;\n",
              "    }\n",
              "\n",
              "    .colab-df-convert:hover {\n",
              "      background-color: #E2EBFA;\n",
              "      box-shadow: 0px 1px 2px rgba(60, 64, 67, 0.3), 0px 1px 3px 1px rgba(60, 64, 67, 0.15);\n",
              "      fill: #174EA6;\n",
              "    }\n",
              "\n",
              "    [theme=dark] .colab-df-convert {\n",
              "      background-color: #3B4455;\n",
              "      fill: #D2E3FC;\n",
              "    }\n",
              "\n",
              "    [theme=dark] .colab-df-convert:hover {\n",
              "      background-color: #434B5C;\n",
              "      box-shadow: 0px 1px 3px 1px rgba(0, 0, 0, 0.15);\n",
              "      filter: drop-shadow(0px 1px 2px rgba(0, 0, 0, 0.3));\n",
              "      fill: #FFFFFF;\n",
              "    }\n",
              "  </style>\n",
              "\n",
              "      <script>\n",
              "        const buttonEl =\n",
              "          document.querySelector('#df-c2aa0aa9-f5fa-4759-9035-2f0dd10757ea button.colab-df-convert');\n",
              "        buttonEl.style.display =\n",
              "          google.colab.kernel.accessAllowed ? 'block' : 'none';\n",
              "\n",
              "        async function convertToInteractive(key) {\n",
              "          const element = document.querySelector('#df-c2aa0aa9-f5fa-4759-9035-2f0dd10757ea');\n",
              "          const dataTable =\n",
              "            await google.colab.kernel.invokeFunction('convertToInteractive',\n",
              "                                                     [key], {});\n",
              "          if (!dataTable) return;\n",
              "\n",
              "          const docLinkHtml = 'Like what you see? Visit the ' +\n",
              "            '<a target=\"_blank\" href=https://colab.research.google.com/notebooks/data_table.ipynb>data table notebook</a>'\n",
              "            + ' to learn more about interactive tables.';\n",
              "          element.innerHTML = '';\n",
              "          dataTable['output_type'] = 'display_data';\n",
              "          await google.colab.output.renderOutput(dataTable, element);\n",
              "          const docLink = document.createElement('div');\n",
              "          docLink.innerHTML = docLinkHtml;\n",
              "          element.appendChild(docLink);\n",
              "        }\n",
              "      </script>\n",
              "    </div>\n",
              "  </div>\n",
              "  "
            ]
          },
          "metadata": {},
          "execution_count": 30
        }
      ]
    },
    {
      "cell_type": "markdown",
      "metadata": {
        "id": "eaFY-EXfl59f"
      },
      "source": [
        "**Зробіть висновки про якість моделей і оцінки впливу ознак на якість вина за допомогою цих трьох моделей**"
      ]
    }
  ]
}